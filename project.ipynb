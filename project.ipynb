{
  "nbformat": 4,
  "nbformat_minor": 0,
  "metadata": {
    "kernelspec": {
      "display_name": "Python 3",
      "language": "python",
      "name": "python3"
    },
    "language_info": {
      "codemirror_mode": {
        "name": "ipython",
        "version": 3
      },
      "file_extension": ".py",
      "mimetype": "text/x-python",
      "name": "python",
      "nbconvert_exporter": "python",
      "pygments_lexer": "ipython3",
      "version": "3.7.9"
    },
    "colab": {
      "name": "project.ipynb",
      "provenance": [],
      "collapsed_sections": [
        "Ce5mYYI0bqW8",
        "jxLXnr_5bqW-",
        "UL5ryFODbqXA",
        "y1UPuhIEbqXC",
        "tq5arSBHbqXE"
      ],
      "include_colab_link": true
    }
  },
  "cells": [
    {
      "cell_type": "markdown",
      "metadata": {
        "id": "view-in-github",
        "colab_type": "text"
      },
      "source": [
        "<a href=\"https://colab.research.google.com/github/saranme/classification_project/blob/master/project.ipynb\" target=\"_parent\"><img src=\"https://colab.research.google.com/assets/colab-badge.svg\" alt=\"Open In Colab\"/></a>"
      ]
    },
    {
      "cell_type": "code",
      "metadata": {
        "id": "AXWltB9_bqWj"
      },
      "source": [
        "import pandas as pd\n",
        "import numpy as np\n",
        "import datetime\n",
        "import warnings\n",
        "warnings.filterwarnings('ignore')\n",
        "warnings.filterwarnings(\"ignore\", message=\"numpy.ufunc size changed\")\n",
        "import matplotlib.pyplot as plt\n",
        "import seaborn as sns\n",
        "%matplotlib inline\n",
        "pd.set_option('display.max_columns', None)\n",
        "import re"
      ],
      "execution_count": null,
      "outputs": []
    },
    {
      "cell_type": "code",
      "metadata": {
        "id": "zwYQb9PabqWu",
        "outputId": "4b1eca4b-8e7b-4a05-b3af-369ef5726615"
      },
      "source": [
        "df = pd.read_csv('creditcardmarketing.csv', names= ['offer_accepted','reward','mailer_type','income_level','bank_accounts_open','overdraft_protection','credit_rating','credit_cards_held','homes_owned','household_size','own_your_home','avg_balance','q1_balance','q2_balance','q3_balance','q4_balance'])\n",
        "df.head()\n"
      ],
      "execution_count": null,
      "outputs": [
        {
          "output_type": "execute_result",
          "data": {
            "text/html": [
              "<div>\n",
              "<style scoped>\n",
              "    .dataframe tbody tr th:only-of-type {\n",
              "        vertical-align: middle;\n",
              "    }\n",
              "\n",
              "    .dataframe tbody tr th {\n",
              "        vertical-align: top;\n",
              "    }\n",
              "\n",
              "    .dataframe thead th {\n",
              "        text-align: right;\n",
              "    }\n",
              "</style>\n",
              "<table border=\"1\" class=\"dataframe\">\n",
              "  <thead>\n",
              "    <tr style=\"text-align: right;\">\n",
              "      <th></th>\n",
              "      <th>offer_accepted</th>\n",
              "      <th>reward</th>\n",
              "      <th>mailer_type</th>\n",
              "      <th>income_level</th>\n",
              "      <th>bank_accounts_open</th>\n",
              "      <th>overdraft_protection</th>\n",
              "      <th>credit_rating</th>\n",
              "      <th>credit_cards_held</th>\n",
              "      <th>homes_owned</th>\n",
              "      <th>household_size</th>\n",
              "      <th>own_your_home</th>\n",
              "      <th>avg_balance</th>\n",
              "      <th>q1_balance</th>\n",
              "      <th>q2_balance</th>\n",
              "      <th>q3_balance</th>\n",
              "      <th>q4_balance</th>\n",
              "    </tr>\n",
              "  </thead>\n",
              "  <tbody>\n",
              "    <tr>\n",
              "      <th>1</th>\n",
              "      <td>No</td>\n",
              "      <td>Air Miles</td>\n",
              "      <td>Letter</td>\n",
              "      <td>High</td>\n",
              "      <td>1</td>\n",
              "      <td>No</td>\n",
              "      <td>High</td>\n",
              "      <td>2</td>\n",
              "      <td>1</td>\n",
              "      <td>4</td>\n",
              "      <td>No</td>\n",
              "      <td>1160.75</td>\n",
              "      <td>1669.0</td>\n",
              "      <td>877.0</td>\n",
              "      <td>1095.0</td>\n",
              "      <td>1002.0</td>\n",
              "    </tr>\n",
              "    <tr>\n",
              "      <th>2</th>\n",
              "      <td>No</td>\n",
              "      <td>Air Miles</td>\n",
              "      <td>Letter</td>\n",
              "      <td>Medium</td>\n",
              "      <td>1</td>\n",
              "      <td>No</td>\n",
              "      <td>Medium</td>\n",
              "      <td>2</td>\n",
              "      <td>2</td>\n",
              "      <td>5</td>\n",
              "      <td>Yes</td>\n",
              "      <td>147.25</td>\n",
              "      <td>39.0</td>\n",
              "      <td>106.0</td>\n",
              "      <td>78.0</td>\n",
              "      <td>366.0</td>\n",
              "    </tr>\n",
              "    <tr>\n",
              "      <th>3</th>\n",
              "      <td>No</td>\n",
              "      <td>Air Miles</td>\n",
              "      <td>Postcard</td>\n",
              "      <td>High</td>\n",
              "      <td>2</td>\n",
              "      <td>No</td>\n",
              "      <td>Medium</td>\n",
              "      <td>2</td>\n",
              "      <td>1</td>\n",
              "      <td>2</td>\n",
              "      <td>Yes</td>\n",
              "      <td>276.50</td>\n",
              "      <td>367.0</td>\n",
              "      <td>352.0</td>\n",
              "      <td>145.0</td>\n",
              "      <td>242.0</td>\n",
              "    </tr>\n",
              "    <tr>\n",
              "      <th>4</th>\n",
              "      <td>No</td>\n",
              "      <td>Air Miles</td>\n",
              "      <td>Letter</td>\n",
              "      <td>Medium</td>\n",
              "      <td>2</td>\n",
              "      <td>No</td>\n",
              "      <td>High</td>\n",
              "      <td>1</td>\n",
              "      <td>1</td>\n",
              "      <td>4</td>\n",
              "      <td>No</td>\n",
              "      <td>1219.00</td>\n",
              "      <td>1578.0</td>\n",
              "      <td>1760.0</td>\n",
              "      <td>1119.0</td>\n",
              "      <td>419.0</td>\n",
              "    </tr>\n",
              "    <tr>\n",
              "      <th>5</th>\n",
              "      <td>No</td>\n",
              "      <td>Air Miles</td>\n",
              "      <td>Letter</td>\n",
              "      <td>Medium</td>\n",
              "      <td>1</td>\n",
              "      <td>No</td>\n",
              "      <td>Medium</td>\n",
              "      <td>2</td>\n",
              "      <td>1</td>\n",
              "      <td>6</td>\n",
              "      <td>Yes</td>\n",
              "      <td>1211.00</td>\n",
              "      <td>2140.0</td>\n",
              "      <td>1357.0</td>\n",
              "      <td>982.0</td>\n",
              "      <td>365.0</td>\n",
              "    </tr>\n",
              "  </tbody>\n",
              "</table>\n",
              "</div>"
            ],
            "text/plain": [
              "  offer_accepted     reward mailer_type income_level  bank_accounts_open  \\\n",
              "1             No  Air Miles      Letter         High                   1   \n",
              "2             No  Air Miles      Letter       Medium                   1   \n",
              "3             No  Air Miles    Postcard         High                   2   \n",
              "4             No  Air Miles      Letter       Medium                   2   \n",
              "5             No  Air Miles      Letter       Medium                   1   \n",
              "\n",
              "  overdraft_protection credit_rating  credit_cards_held  homes_owned  \\\n",
              "1                   No          High                  2            1   \n",
              "2                   No        Medium                  2            2   \n",
              "3                   No        Medium                  2            1   \n",
              "4                   No          High                  1            1   \n",
              "5                   No        Medium                  2            1   \n",
              "\n",
              "   household_size own_your_home  avg_balance  q1_balance  q2_balance  \\\n",
              "1               4            No      1160.75      1669.0       877.0   \n",
              "2               5           Yes       147.25        39.0       106.0   \n",
              "3               2           Yes       276.50       367.0       352.0   \n",
              "4               4            No      1219.00      1578.0      1760.0   \n",
              "5               6           Yes      1211.00      2140.0      1357.0   \n",
              "\n",
              "   q3_balance  q4_balance  \n",
              "1      1095.0      1002.0  \n",
              "2        78.0       366.0  \n",
              "3       145.0       242.0  \n",
              "4      1119.0       419.0  \n",
              "5       982.0       365.0  "
            ]
          },
          "metadata": {
            "tags": []
          },
          "execution_count": 2
        }
      ]
    },
    {
      "cell_type": "code",
      "metadata": {
        "id": "NjQ3do5RbqWx",
        "outputId": "b836c11f-01f5-4d70-b24f-c0b87dac47a1"
      },
      "source": [
        "df.shape"
      ],
      "execution_count": null,
      "outputs": [
        {
          "output_type": "execute_result",
          "data": {
            "text/plain": [
              "(18000, 16)"
            ]
          },
          "metadata": {
            "tags": []
          },
          "execution_count": 3
        }
      ]
    },
    {
      "cell_type": "code",
      "metadata": {
        "id": "gaEdaym_bqWy",
        "outputId": "98a79b3c-da55-41cb-92f2-08614914f8d9"
      },
      "source": [
        "df.isna().sum()"
      ],
      "execution_count": null,
      "outputs": [
        {
          "output_type": "execute_result",
          "data": {
            "text/plain": [
              "offer_accepted           0\n",
              "reward                   0\n",
              "mailer_type              0\n",
              "income_level             0\n",
              "bank_accounts_open       0\n",
              "overdraft_protection     0\n",
              "credit_rating            0\n",
              "credit_cards_held        0\n",
              "homes_owned              0\n",
              "household_size           0\n",
              "own_your_home            0\n",
              "avg_balance             24\n",
              "q1_balance              24\n",
              "q2_balance              24\n",
              "q3_balance              24\n",
              "q4_balance              24\n",
              "dtype: int64"
            ]
          },
          "metadata": {
            "tags": []
          },
          "execution_count": 4
        }
      ]
    },
    {
      "cell_type": "code",
      "metadata": {
        "id": "moQmq7N-bqW0"
      },
      "source": [
        "df = df.dropna()"
      ],
      "execution_count": null,
      "outputs": []
    },
    {
      "cell_type": "code",
      "metadata": {
        "id": "u1qeCMnobqW0",
        "outputId": "a0322be7-0225-40ac-948d-1fbf9e86f0c1"
      },
      "source": [
        "df.dtypes"
      ],
      "execution_count": null,
      "outputs": [
        {
          "output_type": "execute_result",
          "data": {
            "text/plain": [
              "offer_accepted           object\n",
              "reward                   object\n",
              "mailer_type              object\n",
              "income_level             object\n",
              "bank_accounts_open        int64\n",
              "overdraft_protection     object\n",
              "credit_rating            object\n",
              "credit_cards_held         int64\n",
              "homes_owned               int64\n",
              "household_size            int64\n",
              "own_your_home            object\n",
              "avg_balance             float64\n",
              "q1_balance              float64\n",
              "q2_balance              float64\n",
              "q3_balance              float64\n",
              "q4_balance              float64\n",
              "dtype: object"
            ]
          },
          "metadata": {
            "tags": []
          },
          "execution_count": 6
        }
      ]
    },
    {
      "cell_type": "code",
      "metadata": {
        "id": "vL5daxkKbqW1",
        "outputId": "94ef90c5-974e-43af-e52c-a8adf0bd57d8"
      },
      "source": [
        "# checking value counts in every column\n",
        "for i in df.columns:\n",
        "    print(i)\n",
        "    print(df[i].value_counts())\n",
        "    print('---------------------------')"
      ],
      "execution_count": null,
      "outputs": [
        {
          "output_type": "stream",
          "text": [
            "offer_accepted\n",
            "No     16955\n",
            "Yes     1021\n",
            "Name: offer_accepted, dtype: int64\n",
            "---------------------------\n",
            "reward\n",
            "Air Miles    6047\n",
            "Cash Back    5995\n",
            "Points       5934\n",
            "Name: reward, dtype: int64\n",
            "---------------------------\n",
            "mailer_type\n",
            "Postcard    9134\n",
            "Letter      8842\n",
            "Name: mailer_type, dtype: int64\n",
            "---------------------------\n",
            "income_level\n",
            "Medium    9002\n",
            "High      4519\n",
            "Low       4455\n",
            "Name: income_level, dtype: int64\n",
            "---------------------------\n",
            "bank_accounts_open\n",
            "1    13674\n",
            "2     4007\n",
            "3      295\n",
            "Name: bank_accounts_open, dtype: int64\n",
            "---------------------------\n",
            "overdraft_protection\n",
            "No     15300\n",
            "Yes     2676\n",
            "Name: overdraft_protection, dtype: int64\n",
            "---------------------------\n",
            "credit_rating\n",
            "High      6064\n",
            "Medium    5964\n",
            "Low       5948\n",
            "Name: credit_rating, dtype: int64\n",
            "---------------------------\n",
            "credit_cards_held\n",
            "2    7933\n",
            "1    6147\n",
            "3    3381\n",
            "4     515\n",
            "Name: credit_cards_held, dtype: int64\n",
            "---------------------------\n",
            "homes_owned\n",
            "1    14502\n",
            "2     3289\n",
            "3      185\n",
            "Name: homes_owned, dtype: int64\n",
            "---------------------------\n",
            "household_size\n",
            "3    5705\n",
            "4    5532\n",
            "5    2851\n",
            "2    2809\n",
            "1     539\n",
            "6     538\n",
            "9       1\n",
            "8       1\n",
            "Name: household_size, dtype: int64\n",
            "---------------------------\n",
            "own_your_home\n",
            "Yes    11636\n",
            "No      6340\n",
            "Name: own_your_home, dtype: int64\n",
            "---------------------------\n",
            "avg_balance\n",
            "1127.00    17\n",
            "1053.50    16\n",
            "1078.50    16\n",
            "1036.00    16\n",
            "1033.00    16\n",
            "           ..\n",
            "596.75      1\n",
            "379.50      1\n",
            "1514.00     1\n",
            "375.75      1\n",
            "177.25      1\n",
            "Name: avg_balance, Length: 4728, dtype: int64\n",
            "---------------------------\n",
            "q1_balance\n",
            "675.0     23\n",
            "81.0      23\n",
            "823.0     22\n",
            "676.0     22\n",
            "557.0     21\n",
            "          ..\n",
            "1126.0     1\n",
            "2002.0     1\n",
            "2123.0     1\n",
            "1199.0     1\n",
            "1073.0     1\n",
            "Name: q1_balance, Length: 2158, dtype: int64\n",
            "---------------------------\n",
            "q2_balance\n",
            "1060.0    30\n",
            "1197.0    26\n",
            "1271.0    25\n",
            "1132.0    24\n",
            "826.0     24\n",
            "          ..\n",
            "1954.0     1\n",
            "1850.0     1\n",
            "1907.0     1\n",
            "77.0       1\n",
            "1862.0     1\n",
            "Name: q2_balance, Length: 1945, dtype: int64\n",
            "---------------------------\n",
            "q3_balance\n",
            "809.0     30\n",
            "833.0     27\n",
            "972.0     26\n",
            "842.0     26\n",
            "997.0     26\n",
            "          ..\n",
            "1196.0     1\n",
            "2152.0     1\n",
            "2576.0     1\n",
            "2229.0     1\n",
            "342.0      1\n",
            "Name: q3_balance, Length: 2281, dtype: int64\n",
            "---------------------------\n",
            "q4_balance\n",
            "154.0     26\n",
            "497.0     26\n",
            "419.0     26\n",
            "297.0     24\n",
            "434.0     24\n",
            "          ..\n",
            "2124.0     1\n",
            "1449.0     1\n",
            "2055.0     1\n",
            "2155.0     1\n",
            "2001.0     1\n",
            "Name: q4_balance, Length: 2184, dtype: int64\n",
            "---------------------------\n"
          ],
          "name": "stdout"
        }
      ]
    },
    {
      "cell_type": "code",
      "metadata": {
        "id": "8oiLt-tnbqW2",
        "outputId": "6453e9d4-1dbd-41e3-e2ca-d63c9bc97544"
      },
      "source": [
        "(df[df['avg_balance'].isna()].index == df[df['q2_balance'].isna()].index) == (df[df['q3_balance'].isna()].index == df[df['q3_balance'].isna()].index)"
      ],
      "execution_count": null,
      "outputs": [
        {
          "output_type": "execute_result",
          "data": {
            "text/plain": [
              "array([], dtype=bool)"
            ]
          },
          "metadata": {
            "tags": []
          },
          "execution_count": 8
        }
      ]
    },
    {
      "cell_type": "code",
      "metadata": {
        "id": "OPMYAw2EbqW3",
        "outputId": "fd096f58-d7fb-4b06-c8f0-805536f47b99"
      },
      "source": [
        "# what should we do with the null values?\n",
        "df[df['avg_balance'].isna()]"
      ],
      "execution_count": null,
      "outputs": [
        {
          "output_type": "execute_result",
          "data": {
            "text/html": [
              "<div>\n",
              "<style scoped>\n",
              "    .dataframe tbody tr th:only-of-type {\n",
              "        vertical-align: middle;\n",
              "    }\n",
              "\n",
              "    .dataframe tbody tr th {\n",
              "        vertical-align: top;\n",
              "    }\n",
              "\n",
              "    .dataframe thead th {\n",
              "        text-align: right;\n",
              "    }\n",
              "</style>\n",
              "<table border=\"1\" class=\"dataframe\">\n",
              "  <thead>\n",
              "    <tr style=\"text-align: right;\">\n",
              "      <th></th>\n",
              "      <th>offer_accepted</th>\n",
              "      <th>reward</th>\n",
              "      <th>mailer_type</th>\n",
              "      <th>income_level</th>\n",
              "      <th>bank_accounts_open</th>\n",
              "      <th>overdraft_protection</th>\n",
              "      <th>credit_rating</th>\n",
              "      <th>credit_cards_held</th>\n",
              "      <th>homes_owned</th>\n",
              "      <th>household_size</th>\n",
              "      <th>own_your_home</th>\n",
              "      <th>avg_balance</th>\n",
              "      <th>q1_balance</th>\n",
              "      <th>q2_balance</th>\n",
              "      <th>q3_balance</th>\n",
              "      <th>q4_balance</th>\n",
              "    </tr>\n",
              "  </thead>\n",
              "  <tbody>\n",
              "  </tbody>\n",
              "</table>\n",
              "</div>"
            ],
            "text/plain": [
              "Empty DataFrame\n",
              "Columns: [offer_accepted, reward, mailer_type, income_level, bank_accounts_open, overdraft_protection, credit_rating, credit_cards_held, homes_owned, household_size, own_your_home, avg_balance, q1_balance, q2_balance, q3_balance, q4_balance]\n",
              "Index: []"
            ]
          },
          "metadata": {
            "tags": []
          },
          "execution_count": 9
        }
      ]
    },
    {
      "cell_type": "code",
      "metadata": {
        "id": "k25w275tbqW3",
        "outputId": "fd5f4156-40ae-4c55-885f-e24c11daf6ea"
      },
      "source": [
        "summary = df.describe().T\n",
        "summary"
      ],
      "execution_count": null,
      "outputs": [
        {
          "output_type": "execute_result",
          "data": {
            "text/html": [
              "<div>\n",
              "<style scoped>\n",
              "    .dataframe tbody tr th:only-of-type {\n",
              "        vertical-align: middle;\n",
              "    }\n",
              "\n",
              "    .dataframe tbody tr th {\n",
              "        vertical-align: top;\n",
              "    }\n",
              "\n",
              "    .dataframe thead th {\n",
              "        text-align: right;\n",
              "    }\n",
              "</style>\n",
              "<table border=\"1\" class=\"dataframe\">\n",
              "  <thead>\n",
              "    <tr style=\"text-align: right;\">\n",
              "      <th></th>\n",
              "      <th>count</th>\n",
              "      <th>mean</th>\n",
              "      <th>std</th>\n",
              "      <th>min</th>\n",
              "      <th>25%</th>\n",
              "      <th>50%</th>\n",
              "      <th>75%</th>\n",
              "      <th>max</th>\n",
              "    </tr>\n",
              "  </thead>\n",
              "  <tbody>\n",
              "    <tr>\n",
              "      <th>bank_accounts_open</th>\n",
              "      <td>17976.0</td>\n",
              "      <td>1.255730</td>\n",
              "      <td>0.472405</td>\n",
              "      <td>1.00</td>\n",
              "      <td>1.00</td>\n",
              "      <td>1.0</td>\n",
              "      <td>1.00</td>\n",
              "      <td>3.00</td>\n",
              "    </tr>\n",
              "    <tr>\n",
              "      <th>credit_cards_held</th>\n",
              "      <td>17976.0</td>\n",
              "      <td>1.903427</td>\n",
              "      <td>0.797086</td>\n",
              "      <td>1.00</td>\n",
              "      <td>1.00</td>\n",
              "      <td>2.0</td>\n",
              "      <td>2.00</td>\n",
              "      <td>4.00</td>\n",
              "    </tr>\n",
              "    <tr>\n",
              "      <th>homes_owned</th>\n",
              "      <td>17976.0</td>\n",
              "      <td>1.203549</td>\n",
              "      <td>0.427446</td>\n",
              "      <td>1.00</td>\n",
              "      <td>1.00</td>\n",
              "      <td>1.0</td>\n",
              "      <td>1.00</td>\n",
              "      <td>3.00</td>\n",
              "    </tr>\n",
              "    <tr>\n",
              "      <th>household_size</th>\n",
              "      <td>17976.0</td>\n",
              "      <td>3.499110</td>\n",
              "      <td>1.114476</td>\n",
              "      <td>1.00</td>\n",
              "      <td>3.00</td>\n",
              "      <td>3.0</td>\n",
              "      <td>4.00</td>\n",
              "      <td>9.00</td>\n",
              "    </tr>\n",
              "    <tr>\n",
              "      <th>avg_balance</th>\n",
              "      <td>17976.0</td>\n",
              "      <td>940.515562</td>\n",
              "      <td>350.297837</td>\n",
              "      <td>48.25</td>\n",
              "      <td>787.50</td>\n",
              "      <td>1007.0</td>\n",
              "      <td>1153.25</td>\n",
              "      <td>3366.25</td>\n",
              "    </tr>\n",
              "    <tr>\n",
              "      <th>q1_balance</th>\n",
              "      <td>17976.0</td>\n",
              "      <td>910.450656</td>\n",
              "      <td>620.077060</td>\n",
              "      <td>0.00</td>\n",
              "      <td>392.75</td>\n",
              "      <td>772.0</td>\n",
              "      <td>1521.00</td>\n",
              "      <td>3450.00</td>\n",
              "    </tr>\n",
              "    <tr>\n",
              "      <th>q2_balance</th>\n",
              "      <td>17976.0</td>\n",
              "      <td>999.392190</td>\n",
              "      <td>457.402268</td>\n",
              "      <td>0.00</td>\n",
              "      <td>663.00</td>\n",
              "      <td>1032.0</td>\n",
              "      <td>1342.00</td>\n",
              "      <td>3421.00</td>\n",
              "    </tr>\n",
              "    <tr>\n",
              "      <th>q3_balance</th>\n",
              "      <td>17976.0</td>\n",
              "      <td>1042.033600</td>\n",
              "      <td>553.452599</td>\n",
              "      <td>0.00</td>\n",
              "      <td>633.00</td>\n",
              "      <td>945.5</td>\n",
              "      <td>1463.00</td>\n",
              "      <td>3823.00</td>\n",
              "    </tr>\n",
              "    <tr>\n",
              "      <th>q4_balance</th>\n",
              "      <td>17976.0</td>\n",
              "      <td>810.185803</td>\n",
              "      <td>559.001365</td>\n",
              "      <td>0.00</td>\n",
              "      <td>363.00</td>\n",
              "      <td>703.0</td>\n",
              "      <td>1212.00</td>\n",
              "      <td>4215.00</td>\n",
              "    </tr>\n",
              "  </tbody>\n",
              "</table>\n",
              "</div>"
            ],
            "text/plain": [
              "                      count         mean         std    min     25%     50%  \\\n",
              "bank_accounts_open  17976.0     1.255730    0.472405   1.00    1.00     1.0   \n",
              "credit_cards_held   17976.0     1.903427    0.797086   1.00    1.00     2.0   \n",
              "homes_owned         17976.0     1.203549    0.427446   1.00    1.00     1.0   \n",
              "household_size      17976.0     3.499110    1.114476   1.00    3.00     3.0   \n",
              "avg_balance         17976.0   940.515562  350.297837  48.25  787.50  1007.0   \n",
              "q1_balance          17976.0   910.450656  620.077060   0.00  392.75   772.0   \n",
              "q2_balance          17976.0   999.392190  457.402268   0.00  663.00  1032.0   \n",
              "q3_balance          17976.0  1042.033600  553.452599   0.00  633.00   945.5   \n",
              "q4_balance          17976.0   810.185803  559.001365   0.00  363.00   703.0   \n",
              "\n",
              "                        75%      max  \n",
              "bank_accounts_open     1.00     3.00  \n",
              "credit_cards_held      2.00     4.00  \n",
              "homes_owned            1.00     3.00  \n",
              "household_size         4.00     9.00  \n",
              "avg_balance         1153.25  3366.25  \n",
              "q1_balance          1521.00  3450.00  \n",
              "q2_balance          1342.00  3421.00  \n",
              "q3_balance          1463.00  3823.00  \n",
              "q4_balance          1212.00  4215.00  "
            ]
          },
          "metadata": {
            "tags": []
          },
          "execution_count": 10
        }
      ]
    },
    {
      "cell_type": "markdown",
      "metadata": {
        "id": "KsZVG7r6bqW4"
      },
      "source": [
        "# Getting possible values for the dependent variable"
      ]
    },
    {
      "cell_type": "code",
      "metadata": {
        "id": "zC2Wa3FzbqW5",
        "outputId": "3387c0bd-e47e-4390-d11d-1c9f2d62c8e5"
      },
      "source": [
        "df['offer_accepted'].value_counts()"
      ],
      "execution_count": null,
      "outputs": [
        {
          "output_type": "execute_result",
          "data": {
            "text/plain": [
              "No     16955\n",
              "Yes     1021\n",
              "Name: offer_accepted, dtype: int64"
            ]
          },
          "metadata": {
            "tags": []
          },
          "execution_count": 11
        }
      ]
    },
    {
      "cell_type": "markdown",
      "metadata": {
        "id": "CyPiME4ubqW5"
      },
      "source": [
        "# Functions"
      ]
    },
    {
      "cell_type": "code",
      "metadata": {
        "id": "xgFYO0dbbqW5"
      },
      "source": [
        "# data separation in types\n",
        "def data_sep(df,types, target=None):\n",
        "    num_discrete = []\n",
        "    num_continuous = []\n",
        "    num = df.select_dtypes(include = np.number)\n",
        "    for i in num.columns:\n",
        "        if 'balance' in i:\n",
        "            num_continuous.append(i)\n",
        "        else:\n",
        "            num_discrete.append(i)\n",
        "    if types == 'numerical':\n",
        "        return num\n",
        "    elif types == 'discrete':\n",
        "        return df[num_discrete]\n",
        "    elif types == 'continuous':\n",
        "        return df[num_continuous]\n",
        "    else:\n",
        "        cat = df.select_dtypes(include = np.object)\n",
        "        cat = cat.drop(target, axis = 1)\n",
        "        return cat"
      ],
      "execution_count": null,
      "outputs": []
    },
    {
      "cell_type": "code",
      "metadata": {
        "id": "2HQDKbjfbqW6"
      },
      "source": [
        "def plots(df, types,target=None):\n",
        "    import seaborn as sns\n",
        "    if types == 'correlation matrix':\n",
        "        corr_matrix=df.corr(method='pearson')\n",
        "        fig, ax = plt.subplots(figsize=(10, 8))\n",
        "        mask = np.zeros_like(corr_matrix)\n",
        "        mask[np.triu_indices_from(mask)] = True\n",
        "        ax = sns.heatmap(corr_matrix, mask=mask, annot=True)\n",
        "        return plt.show()\n",
        "    for i in df.columns:\n",
        "            print('Column: ',i)\n",
        "            print('====================')\n",
        "            if types == 'continuous':\n",
        "                sns.distplot(df[i])\n",
        "            elif types == 'categorical' or types == 'discrete':\n",
        "                sns.countplot(x=i,data=df)\n",
        "            elif types == 'boxplot':\n",
        "                sns.boxplot(x=i, data=df)\n",
        "            plt.show()\n",
        "            print('====================')"
      ],
      "execution_count": null,
      "outputs": []
    },
    {
      "cell_type": "code",
      "metadata": {
        "id": "uVMmhN7obqW6",
        "outputId": "125c9760-7616-454e-8b0a-5b96f4104e2a"
      },
      "source": [
        "'''\n",
        "def ordinals_conversor(df):\n",
        "    df2 = df.copy()\n",
        "    for col in ['income_level','overdraft_protection','credit_rating','own_your_home']:\n",
        "        if len(df2[col].unique()) > 2:\n",
        "            # df2[col] = np.where(df2[col] == 'High',2, np.where(df2[col]== 'Low',0, 1))\n",
        "            df2[col]= list(map(lambda x: 2 if x == 'High' else (0 if x == 'Low' else 1),df2[col]))\n",
        "        else:\n",
        "            df2[col]= list(map(lambda x: 1 if x =='Yes' else 0,df2[col]))\n",
        "    return df2\n",
        "'''"
      ],
      "execution_count": null,
      "outputs": [
        {
          "output_type": "execute_result",
          "data": {
            "text/plain": [
              "\"\\ndef ordinals_conversor(df):\\n    df2 = df.copy()\\n    for col in ['income_level','overdraft_protection','credit_rating','own_your_home']:\\n        if len(df2[col].unique()) > 2:\\n            # df2[col] = np.where(df2[col] == 'High',2, np.where(df2[col]== 'Low',0, 1))\\n            df2[col]= list(map(lambda x: 2 if x == 'High' else (0 if x == 'Low' else 1),df2[col]))\\n        else:\\n            df2[col]= list(map(lambda x: 1 if x =='Yes' else 0,df2[col]))\\n    return df2\\n\""
            ]
          },
          "metadata": {
            "tags": []
          },
          "execution_count": 14
        }
      ]
    },
    {
      "cell_type": "code",
      "metadata": {
        "id": "0ss2h4uhbqW7"
      },
      "source": [
        "def ordinals_conversor(df):\n",
        "    for col in ['income_level','overdraft_protection','credit_rating','own_your_home']:\n",
        "        if len(df[col].unique()) > 2:\n",
        "            # df2[col] = np.where(df2[col] == 'High',2, np.where(df2[col]== 'Low',0, 1))\n",
        "            df[col]= list(map(lambda x: 2 if x == 'High' else (0 if x == 'Low' else 1),df[col]))\n",
        "        else:\n",
        "            df[col]= list(map(lambda x: 1 if x =='Yes' else 0,df[col]))"
      ],
      "execution_count": null,
      "outputs": []
    },
    {
      "cell_type": "code",
      "metadata": {
        "id": "dl0hLUcHbqW7"
      },
      "source": [
        "# check if categoricals are dependent\n",
        "def chi_test(df,x,y):\n",
        "    from scipy.stats import chi2_contingency\n",
        "    from scipy.stats import chi2\n",
        "    # contingency table\n",
        "    table = pd.crosstab(df[x], df[y])\n",
        "    print(table)\n",
        "    stat, p, dof, expected = chi2_contingency(table)\n",
        "    print('dof=%d' % dof)\n",
        "    print(expected)\n",
        "    # interpret test-statistic\n",
        "    prob = 0.95\n",
        "    critical = chi2.ppf(prob, dof)\n",
        "    print('probability=%.3f, critical=%.3f, stat=%.3f' % (prob, critical, stat))\n",
        "    if abs(stat) >= critical:\n",
        "        print('Dependent (reject H0)')\n",
        "    else:\n",
        "        print('Independent (fail to reject H0)')\n",
        "    # interpret p-value\n",
        "    alpha = 1.0 - prob\n",
        "    print('significance=%.3f, p=%.3f' % (alpha, p))\n",
        "    if p <= alpha:\n",
        "        print('!!!!! DEPENDENT (reject H0)')\n",
        "    else:\n",
        "        print('Independent (fail to reject H0)')\n",
        "    print('==========================================================')"
      ],
      "execution_count": null,
      "outputs": []
    },
    {
      "cell_type": "code",
      "metadata": {
        "id": "r1uvYudMbqW7"
      },
      "source": [
        "def skew_df(df):\n",
        "    from scipy.stats import skew\n",
        "    \n",
        "    cols=list(df.columns)\n",
        "    \n",
        "    for col in cols:\n",
        "        sk=df[col].skew()\n",
        "        print(\"the skew of {} is: {}\".format(col,sk))"
      ],
      "execution_count": null,
      "outputs": []
    },
    {
      "cell_type": "markdown",
      "metadata": {
        "id": "Ce5mYYI0bqW8"
      },
      "source": [
        "# Data separation in types"
      ]
    },
    {
      "cell_type": "code",
      "metadata": {
        "id": "6f7qpGLPbqW8",
        "outputId": "483a2081-2804-4f63-c934-950ac4562b42"
      },
      "source": [
        "cat = data_sep(df,'cat','offer_accepted')\n",
        "cat.head()"
      ],
      "execution_count": null,
      "outputs": [
        {
          "output_type": "execute_result",
          "data": {
            "text/html": [
              "<div>\n",
              "<style scoped>\n",
              "    .dataframe tbody tr th:only-of-type {\n",
              "        vertical-align: middle;\n",
              "    }\n",
              "\n",
              "    .dataframe tbody tr th {\n",
              "        vertical-align: top;\n",
              "    }\n",
              "\n",
              "    .dataframe thead th {\n",
              "        text-align: right;\n",
              "    }\n",
              "</style>\n",
              "<table border=\"1\" class=\"dataframe\">\n",
              "  <thead>\n",
              "    <tr style=\"text-align: right;\">\n",
              "      <th></th>\n",
              "      <th>reward</th>\n",
              "      <th>mailer_type</th>\n",
              "      <th>income_level</th>\n",
              "      <th>overdraft_protection</th>\n",
              "      <th>credit_rating</th>\n",
              "      <th>own_your_home</th>\n",
              "    </tr>\n",
              "  </thead>\n",
              "  <tbody>\n",
              "    <tr>\n",
              "      <th>1</th>\n",
              "      <td>Air Miles</td>\n",
              "      <td>Letter</td>\n",
              "      <td>High</td>\n",
              "      <td>No</td>\n",
              "      <td>High</td>\n",
              "      <td>No</td>\n",
              "    </tr>\n",
              "    <tr>\n",
              "      <th>2</th>\n",
              "      <td>Air Miles</td>\n",
              "      <td>Letter</td>\n",
              "      <td>Medium</td>\n",
              "      <td>No</td>\n",
              "      <td>Medium</td>\n",
              "      <td>Yes</td>\n",
              "    </tr>\n",
              "    <tr>\n",
              "      <th>3</th>\n",
              "      <td>Air Miles</td>\n",
              "      <td>Postcard</td>\n",
              "      <td>High</td>\n",
              "      <td>No</td>\n",
              "      <td>Medium</td>\n",
              "      <td>Yes</td>\n",
              "    </tr>\n",
              "    <tr>\n",
              "      <th>4</th>\n",
              "      <td>Air Miles</td>\n",
              "      <td>Letter</td>\n",
              "      <td>Medium</td>\n",
              "      <td>No</td>\n",
              "      <td>High</td>\n",
              "      <td>No</td>\n",
              "    </tr>\n",
              "    <tr>\n",
              "      <th>5</th>\n",
              "      <td>Air Miles</td>\n",
              "      <td>Letter</td>\n",
              "      <td>Medium</td>\n",
              "      <td>No</td>\n",
              "      <td>Medium</td>\n",
              "      <td>Yes</td>\n",
              "    </tr>\n",
              "  </tbody>\n",
              "</table>\n",
              "</div>"
            ],
            "text/plain": [
              "      reward mailer_type income_level overdraft_protection credit_rating  \\\n",
              "1  Air Miles      Letter         High                   No          High   \n",
              "2  Air Miles      Letter       Medium                   No        Medium   \n",
              "3  Air Miles    Postcard         High                   No        Medium   \n",
              "4  Air Miles      Letter       Medium                   No          High   \n",
              "5  Air Miles      Letter       Medium                   No        Medium   \n",
              "\n",
              "  own_your_home  \n",
              "1            No  \n",
              "2           Yes  \n",
              "3           Yes  \n",
              "4            No  \n",
              "5           Yes  "
            ]
          },
          "metadata": {
            "tags": []
          },
          "execution_count": 18
        }
      ]
    },
    {
      "cell_type": "code",
      "metadata": {
        "id": "09xjyLJ7bqW9",
        "outputId": "0cd99f1e-84b2-4597-ee0c-e669220a8ee5"
      },
      "source": [
        "num = data_sep(df,'numerical')\n",
        "num.head()"
      ],
      "execution_count": null,
      "outputs": [
        {
          "output_type": "execute_result",
          "data": {
            "text/html": [
              "<div>\n",
              "<style scoped>\n",
              "    .dataframe tbody tr th:only-of-type {\n",
              "        vertical-align: middle;\n",
              "    }\n",
              "\n",
              "    .dataframe tbody tr th {\n",
              "        vertical-align: top;\n",
              "    }\n",
              "\n",
              "    .dataframe thead th {\n",
              "        text-align: right;\n",
              "    }\n",
              "</style>\n",
              "<table border=\"1\" class=\"dataframe\">\n",
              "  <thead>\n",
              "    <tr style=\"text-align: right;\">\n",
              "      <th></th>\n",
              "      <th>bank_accounts_open</th>\n",
              "      <th>credit_cards_held</th>\n",
              "      <th>homes_owned</th>\n",
              "      <th>household_size</th>\n",
              "      <th>avg_balance</th>\n",
              "      <th>q1_balance</th>\n",
              "      <th>q2_balance</th>\n",
              "      <th>q3_balance</th>\n",
              "      <th>q4_balance</th>\n",
              "    </tr>\n",
              "  </thead>\n",
              "  <tbody>\n",
              "    <tr>\n",
              "      <th>1</th>\n",
              "      <td>1</td>\n",
              "      <td>2</td>\n",
              "      <td>1</td>\n",
              "      <td>4</td>\n",
              "      <td>1160.75</td>\n",
              "      <td>1669.0</td>\n",
              "      <td>877.0</td>\n",
              "      <td>1095.0</td>\n",
              "      <td>1002.0</td>\n",
              "    </tr>\n",
              "    <tr>\n",
              "      <th>2</th>\n",
              "      <td>1</td>\n",
              "      <td>2</td>\n",
              "      <td>2</td>\n",
              "      <td>5</td>\n",
              "      <td>147.25</td>\n",
              "      <td>39.0</td>\n",
              "      <td>106.0</td>\n",
              "      <td>78.0</td>\n",
              "      <td>366.0</td>\n",
              "    </tr>\n",
              "    <tr>\n",
              "      <th>3</th>\n",
              "      <td>2</td>\n",
              "      <td>2</td>\n",
              "      <td>1</td>\n",
              "      <td>2</td>\n",
              "      <td>276.50</td>\n",
              "      <td>367.0</td>\n",
              "      <td>352.0</td>\n",
              "      <td>145.0</td>\n",
              "      <td>242.0</td>\n",
              "    </tr>\n",
              "    <tr>\n",
              "      <th>4</th>\n",
              "      <td>2</td>\n",
              "      <td>1</td>\n",
              "      <td>1</td>\n",
              "      <td>4</td>\n",
              "      <td>1219.00</td>\n",
              "      <td>1578.0</td>\n",
              "      <td>1760.0</td>\n",
              "      <td>1119.0</td>\n",
              "      <td>419.0</td>\n",
              "    </tr>\n",
              "    <tr>\n",
              "      <th>5</th>\n",
              "      <td>1</td>\n",
              "      <td>2</td>\n",
              "      <td>1</td>\n",
              "      <td>6</td>\n",
              "      <td>1211.00</td>\n",
              "      <td>2140.0</td>\n",
              "      <td>1357.0</td>\n",
              "      <td>982.0</td>\n",
              "      <td>365.0</td>\n",
              "    </tr>\n",
              "  </tbody>\n",
              "</table>\n",
              "</div>"
            ],
            "text/plain": [
              "   bank_accounts_open  credit_cards_held  homes_owned  household_size  \\\n",
              "1                   1                  2            1               4   \n",
              "2                   1                  2            2               5   \n",
              "3                   2                  2            1               2   \n",
              "4                   2                  1            1               4   \n",
              "5                   1                  2            1               6   \n",
              "\n",
              "   avg_balance  q1_balance  q2_balance  q3_balance  q4_balance  \n",
              "1      1160.75      1669.0       877.0      1095.0      1002.0  \n",
              "2       147.25        39.0       106.0        78.0       366.0  \n",
              "3       276.50       367.0       352.0       145.0       242.0  \n",
              "4      1219.00      1578.0      1760.0      1119.0       419.0  \n",
              "5      1211.00      2140.0      1357.0       982.0       365.0  "
            ]
          },
          "metadata": {
            "tags": []
          },
          "execution_count": 19
        }
      ]
    },
    {
      "cell_type": "code",
      "metadata": {
        "id": "9tS0o9W8bqW9",
        "outputId": "f24efda8-4735-4571-d45d-3b2a48de50ba"
      },
      "source": [
        "num_cont = data_sep(df, 'continuous')\n",
        "num_cont.head()"
      ],
      "execution_count": null,
      "outputs": [
        {
          "output_type": "execute_result",
          "data": {
            "text/html": [
              "<div>\n",
              "<style scoped>\n",
              "    .dataframe tbody tr th:only-of-type {\n",
              "        vertical-align: middle;\n",
              "    }\n",
              "\n",
              "    .dataframe tbody tr th {\n",
              "        vertical-align: top;\n",
              "    }\n",
              "\n",
              "    .dataframe thead th {\n",
              "        text-align: right;\n",
              "    }\n",
              "</style>\n",
              "<table border=\"1\" class=\"dataframe\">\n",
              "  <thead>\n",
              "    <tr style=\"text-align: right;\">\n",
              "      <th></th>\n",
              "      <th>avg_balance</th>\n",
              "      <th>q1_balance</th>\n",
              "      <th>q2_balance</th>\n",
              "      <th>q3_balance</th>\n",
              "      <th>q4_balance</th>\n",
              "    </tr>\n",
              "  </thead>\n",
              "  <tbody>\n",
              "    <tr>\n",
              "      <th>1</th>\n",
              "      <td>1160.75</td>\n",
              "      <td>1669.0</td>\n",
              "      <td>877.0</td>\n",
              "      <td>1095.0</td>\n",
              "      <td>1002.0</td>\n",
              "    </tr>\n",
              "    <tr>\n",
              "      <th>2</th>\n",
              "      <td>147.25</td>\n",
              "      <td>39.0</td>\n",
              "      <td>106.0</td>\n",
              "      <td>78.0</td>\n",
              "      <td>366.0</td>\n",
              "    </tr>\n",
              "    <tr>\n",
              "      <th>3</th>\n",
              "      <td>276.50</td>\n",
              "      <td>367.0</td>\n",
              "      <td>352.0</td>\n",
              "      <td>145.0</td>\n",
              "      <td>242.0</td>\n",
              "    </tr>\n",
              "    <tr>\n",
              "      <th>4</th>\n",
              "      <td>1219.00</td>\n",
              "      <td>1578.0</td>\n",
              "      <td>1760.0</td>\n",
              "      <td>1119.0</td>\n",
              "      <td>419.0</td>\n",
              "    </tr>\n",
              "    <tr>\n",
              "      <th>5</th>\n",
              "      <td>1211.00</td>\n",
              "      <td>2140.0</td>\n",
              "      <td>1357.0</td>\n",
              "      <td>982.0</td>\n",
              "      <td>365.0</td>\n",
              "    </tr>\n",
              "  </tbody>\n",
              "</table>\n",
              "</div>"
            ],
            "text/plain": [
              "   avg_balance  q1_balance  q2_balance  q3_balance  q4_balance\n",
              "1      1160.75      1669.0       877.0      1095.0      1002.0\n",
              "2       147.25        39.0       106.0        78.0       366.0\n",
              "3       276.50       367.0       352.0       145.0       242.0\n",
              "4      1219.00      1578.0      1760.0      1119.0       419.0\n",
              "5      1211.00      2140.0      1357.0       982.0       365.0"
            ]
          },
          "metadata": {
            "tags": []
          },
          "execution_count": 20
        }
      ]
    },
    {
      "cell_type": "code",
      "metadata": {
        "id": "sAdyzoNabqW-",
        "outputId": "8abf87a6-8071-48a2-dfb3-2418773f565c"
      },
      "source": [
        "num_disc = data_sep(df, 'discrete')\n",
        "num_disc.head()"
      ],
      "execution_count": null,
      "outputs": [
        {
          "output_type": "execute_result",
          "data": {
            "text/html": [
              "<div>\n",
              "<style scoped>\n",
              "    .dataframe tbody tr th:only-of-type {\n",
              "        vertical-align: middle;\n",
              "    }\n",
              "\n",
              "    .dataframe tbody tr th {\n",
              "        vertical-align: top;\n",
              "    }\n",
              "\n",
              "    .dataframe thead th {\n",
              "        text-align: right;\n",
              "    }\n",
              "</style>\n",
              "<table border=\"1\" class=\"dataframe\">\n",
              "  <thead>\n",
              "    <tr style=\"text-align: right;\">\n",
              "      <th></th>\n",
              "      <th>bank_accounts_open</th>\n",
              "      <th>credit_cards_held</th>\n",
              "      <th>homes_owned</th>\n",
              "      <th>household_size</th>\n",
              "    </tr>\n",
              "  </thead>\n",
              "  <tbody>\n",
              "    <tr>\n",
              "      <th>1</th>\n",
              "      <td>1</td>\n",
              "      <td>2</td>\n",
              "      <td>1</td>\n",
              "      <td>4</td>\n",
              "    </tr>\n",
              "    <tr>\n",
              "      <th>2</th>\n",
              "      <td>1</td>\n",
              "      <td>2</td>\n",
              "      <td>2</td>\n",
              "      <td>5</td>\n",
              "    </tr>\n",
              "    <tr>\n",
              "      <th>3</th>\n",
              "      <td>2</td>\n",
              "      <td>2</td>\n",
              "      <td>1</td>\n",
              "      <td>2</td>\n",
              "    </tr>\n",
              "    <tr>\n",
              "      <th>4</th>\n",
              "      <td>2</td>\n",
              "      <td>1</td>\n",
              "      <td>1</td>\n",
              "      <td>4</td>\n",
              "    </tr>\n",
              "    <tr>\n",
              "      <th>5</th>\n",
              "      <td>1</td>\n",
              "      <td>2</td>\n",
              "      <td>1</td>\n",
              "      <td>6</td>\n",
              "    </tr>\n",
              "  </tbody>\n",
              "</table>\n",
              "</div>"
            ],
            "text/plain": [
              "   bank_accounts_open  credit_cards_held  homes_owned  household_size\n",
              "1                   1                  2            1               4\n",
              "2                   1                  2            2               5\n",
              "3                   2                  2            1               2\n",
              "4                   2                  1            1               4\n",
              "5                   1                  2            1               6"
            ]
          },
          "metadata": {
            "tags": []
          },
          "execution_count": 21
        }
      ]
    },
    {
      "cell_type": "markdown",
      "metadata": {
        "id": "jxLXnr_5bqW-"
      },
      "source": [
        "# Data Exploration"
      ]
    },
    {
      "cell_type": "code",
      "metadata": {
        "id": "7DYzbOflbqW-",
        "outputId": "17fe2ff7-17ee-474c-d33b-8e92e6a20a79"
      },
      "source": [
        "plots(num,'correlation matrix')"
      ],
      "execution_count": null,
      "outputs": [
        {
          "output_type": "display_data",
          "data": {
            "image/png": "[encoded data removed]",
            "text/plain": [
              "<Figure size 720x576 with 2 Axes>"
            ]
          },
          "metadata": {
            "tags": [],
            "needs_background": "light"
          }
        }
      ]
    },
    {
      "cell_type": "code",
      "metadata": {
        "id": "gj8NDc_EbqW_",
        "outputId": "cd9621b4-9bfe-46bc-f2ec-3699ed4d0047"
      },
      "source": [
        "# plotting continuous data\n",
        "plots(num_cont,'continuous')"
      ],
      "execution_count": null,
      "outputs": [
        {
          "output_type": "stream",
          "text": [
            "Column:  avg_balance\n",
            "====================\n"
          ],
          "name": "stdout"
        },
        {
          "output_type": "display_data",
          "data": {
            "image/png": "[encoded data removed]",
            "text/plain": [
              "<Figure size 432x288 with 1 Axes>"
            ]
          },
          "metadata": {
            "tags": [],
            "needs_background": "light"
          }
        },
        {
          "output_type": "stream",
          "text": [
            "====================\n",
            "Column:  q1_balance\n",
            "====================\n"
          ],
          "name": "stdout"
        },
        {
          "output_type": "display_data",
          "data": {
            "image/png": "[encoded data removed]",
            "text/plain": [
              "<Figure size 432x288 with 1 Axes>"
            ]
          },
          "metadata": {
            "tags": [],
            "needs_background": "light"
          }
        },
        {
          "output_type": "stream",
          "text": [
            "====================\n",
            "Column:  q2_balance\n",
            "====================\n"
          ],
          "name": "stdout"
        },
        {
          "output_type": "display_data",
          "data": {
            "image/png": "[encoded data removed]",
            "text/plain": [
              "<Figure size 432x288 with 1 Axes>"
            ]
          },
          "metadata": {
            "tags": [],
            "needs_background": "light"
          }
        },
        {
          "output_type": "stream",
          "text": [
            "====================\n",
            "Column:  q3_balance\n",
            "====================\n"
          ],
          "name": "stdout"
        },
        {
          "output_type": "display_data",
          "data": {
            "image/png": "[encoded data removed]",
            "text/plain": [
              "<Figure size 432x288 with 1 Axes>"
            ]
          },
          "metadata": {
            "tags": [],
            "needs_background": "light"
          }
        },
        {
          "output_type": "stream",
          "text": [
            "====================\n",
            "Column:  q4_balance\n",
            "====================\n"
          ],
          "name": "stdout"
        },
        {
          "output_type": "display_data",
          "data": {
            "image/png": "[encoded data removed]",
            "text/plain": [
              "<Figure size 432x288 with 1 Axes>"
            ]
          },
          "metadata": {
            "tags": [],
            "needs_background": "light"
          }
        },
        {
          "output_type": "stream",
          "text": [
            "====================\n"
          ],
          "name": "stdout"
        }
      ]
    },
    {
      "cell_type": "code",
      "metadata": {
        "id": "HL3PFBJFbqW_",
        "outputId": "cfd5e06d-bd7a-4b2b-b2a7-f5cd6646ca41"
      },
      "source": [
        "plots(num,'boxplot')"
      ],
      "execution_count": null,
      "outputs": [
        {
          "output_type": "stream",
          "text": [
            "Column:  bank_accounts_open\n",
            "====================\n"
          ],
          "name": "stdout"
        },
        {
          "output_type": "display_data",
          "data": {
            "image/png": "[encoded data removed]",
            "text/plain": [
              "<Figure size 432x288 with 1 Axes>"
            ]
          },
          "metadata": {
            "tags": [],
            "needs_background": "light"
          }
        },
        {
          "output_type": "stream",
          "text": [
            "====================\n",
            "Column:  credit_cards_held\n",
            "====================\n"
          ],
          "name": "stdout"
        },
        {
          "output_type": "display_data",
          "data": {
            "image/png": "[encoded data removed]",
            "text/plain": [
              "<Figure size 432x288 with 1 Axes>"
            ]
          },
          "metadata": {
            "tags": [],
            "needs_background": "light"
          }
        },
        {
          "output_type": "stream",
          "text": [
            "====================\n",
            "Column:  homes_owned\n",
            "====================\n"
          ],
          "name": "stdout"
        },
        {
          "output_type": "display_data",
          "data": {
            "image/png": "[encoded data removed]",
            "text/plain": [
              "<Figure size 432x288 with 1 Axes>"
            ]
          },
          "metadata": {
            "tags": [],
            "needs_background": "light"
          }
        },
        {
          "output_type": "stream",
          "text": [
            "====================\n",
            "Column:  household_size\n",
            "====================\n"
          ],
          "name": "stdout"
        },
        {
          "output_type": "display_data",
          "data": {
            "image/png": "[encoded data removed]",
            "text/plain": [
              "<Figure size 432x288 with 1 Axes>"
            ]
          },
          "metadata": {
            "tags": [],
            "needs_background": "light"
          }
        },
        {
          "output_type": "stream",
          "text": [
            "====================\n",
            "Column:  avg_balance\n",
            "====================\n"
          ],
          "name": "stdout"
        },
        {
          "output_type": "display_data",
          "data": {
            "image/png": "[encoded data removed]",
            "text/plain": [
              "<Figure size 432x288 with 1 Axes>"
            ]
          },
          "metadata": {
            "tags": [],
            "needs_background": "light"
          }
        },
        {
          "output_type": "stream",
          "text": [
            "====================\n",
            "Column:  q1_balance\n",
            "====================\n"
          ],
          "name": "stdout"
        },
        {
          "output_type": "display_data",
          "data": {
            "image/png": "[encoded data removed]",
            "text/plain": [
              "<Figure size 432x288 with 1 Axes>"
            ]
          },
          "metadata": {
            "tags": [],
            "needs_background": "light"
          }
        },
        {
          "output_type": "stream",
          "text": [
            "====================\n",
            "Column:  q2_balance\n",
            "====================\n"
          ],
          "name": "stdout"
        },
        {
          "output_type": "display_data",
          "data": {
            "image/png": "[encoded data removed]",
            "text/plain": [
              "<Figure size 432x288 with 1 Axes>"
            ]
          },
          "metadata": {
            "tags": [],
            "needs_background": "light"
          }
        },
        {
          "output_type": "stream",
          "text": [
            "====================\n",
            "Column:  q3_balance\n",
            "====================\n"
          ],
          "name": "stdout"
        },
        {
          "output_type": "display_data",
          "data": {
            "image/png": "[encoded data removed]",
            "text/plain": [
              "<Figure size 432x288 with 1 Axes>"
            ]
          },
          "metadata": {
            "tags": [],
            "needs_background": "light"
          }
        },
        {
          "output_type": "stream",
          "text": [
            "====================\n",
            "Column:  q4_balance\n",
            "====================\n"
          ],
          "name": "stdout"
        },
        {
          "output_type": "display_data",
          "data": {
            "image/png": "[encoded data removed]",
            "text/plain": [
              "<Figure size 432x288 with 1 Axes>"
            ]
          },
          "metadata": {
            "tags": [],
            "needs_background": "light"
          }
        },
        {
          "output_type": "stream",
          "text": [
            "====================\n"
          ],
          "name": "stdout"
        }
      ]
    },
    {
      "cell_type": "code",
      "metadata": {
        "id": "ldQmtnojbqW_",
        "outputId": "e9179ba1-c7ee-41bf-92f7-955e67669814"
      },
      "source": [
        "plots(num_disc,'discrete')"
      ],
      "execution_count": null,
      "outputs": [
        {
          "output_type": "stream",
          "text": [
            "Column:  bank_accounts_open\n",
            "====================\n"
          ],
          "name": "stdout"
        },
        {
          "output_type": "display_data",
          "data": {
            "image/png": "[encoded data removed]",
            "text/plain": [
              "<Figure size 432x288 with 1 Axes>"
            ]
          },
          "metadata": {
            "tags": [],
            "needs_background": "light"
          }
        },
        {
          "output_type": "stream",
          "text": [
            "====================\n",
            "Column:  credit_cards_held\n",
            "====================\n"
          ],
          "name": "stdout"
        },
        {
          "output_type": "display_data",
          "data": {
            "image/png": "[encoded data removed]",
            "text/plain": [
              "<Figure size 432x288 with 1 Axes>"
            ]
          },
          "metadata": {
            "tags": [],
            "needs_background": "light"
          }
        },
        {
          "output_type": "stream",
          "text": [
            "====================\n",
            "Column:  homes_owned\n",
            "====================\n"
          ],
          "name": "stdout"
        },
        {
          "output_type": "display_data",
          "data": {
            "image/png": "[encoded data removed]",
            "text/plain": [
              "<Figure size 432x288 with 1 Axes>"
            ]
          },
          "metadata": {
            "tags": [],
            "needs_background": "light"
          }
        },
        {
          "output_type": "stream",
          "text": [
            "====================\n",
            "Column:  household_size\n",
            "====================\n"
          ],
          "name": "stdout"
        },
        {
          "output_type": "display_data",
          "data": {
            "image/png": "[encoded data removed]",
            "text/plain": [
              "<Figure size 432x288 with 1 Axes>"
            ]
          },
          "metadata": {
            "tags": [],
            "needs_background": "light"
          }
        },
        {
          "output_type": "stream",
          "text": [
            "====================\n"
          ],
          "name": "stdout"
        }
      ]
    },
    {
      "cell_type": "code",
      "metadata": {
        "id": "B2vWmlVGbqXA",
        "outputId": "916209de-89cd-4b5d-ca36-4eebde9fcb1a"
      },
      "source": [
        "plots(cat,'categorical')"
      ],
      "execution_count": null,
      "outputs": [
        {
          "output_type": "stream",
          "text": [
            "Column:  reward\n",
            "====================\n"
          ],
          "name": "stdout"
        },
        {
          "output_type": "display_data",
          "data": {
            "image/png": "[encoded data removed]",
            "text/plain": [
              "<Figure size 432x288 with 1 Axes>"
            ]
          },
          "metadata": {
            "tags": [],
            "needs_background": "light"
          }
        },
        {
          "output_type": "stream",
          "text": [
            "====================\n",
            "Column:  mailer_type\n",
            "====================\n"
          ],
          "name": "stdout"
        },
        {
          "output_type": "display_data",
          "data": {
            "image/png": "[encoded data removed]",
            "text/plain": [
              "<Figure size 432x288 with 1 Axes>"
            ]
          },
          "metadata": {
            "tags": [],
            "needs_background": "light"
          }
        },
        {
          "output_type": "stream",
          "text": [
            "====================\n",
            "Column:  income_level\n",
            "====================\n"
          ],
          "name": "stdout"
        },
        {
          "output_type": "display_data",
          "data": {
            "image/png": "[encoded data removed]",
            "text/plain": [
              "<Figure size 432x288 with 1 Axes>"
            ]
          },
          "metadata": {
            "tags": [],
            "needs_background": "light"
          }
        },
        {
          "output_type": "stream",
          "text": [
            "====================\n",
            "Column:  overdraft_protection\n",
            "====================\n"
          ],
          "name": "stdout"
        },
        {
          "output_type": "display_data",
          "data": {
            "image/png": "[encoded data removed]",
            "text/plain": [
              "<Figure size 432x288 with 1 Axes>"
            ]
          },
          "metadata": {
            "tags": [],
            "needs_background": "light"
          }
        },
        {
          "output_type": "stream",
          "text": [
            "====================\n",
            "Column:  credit_rating\n",
            "====================\n"
          ],
          "name": "stdout"
        },
        {
          "output_type": "display_data",
          "data": {
            "image/png": "[encoded data removed]",
            "text/plain": [
              "<Figure size 432x288 with 1 Axes>"
            ]
          },
          "metadata": {
            "tags": [],
            "needs_background": "light"
          }
        },
        {
          "output_type": "stream",
          "text": [
            "====================\n",
            "Column:  own_your_home\n",
            "====================\n"
          ],
          "name": "stdout"
        },
        {
          "output_type": "display_data",
          "data": {
            "image/png": "[encoded data removed]",
            "text/plain": [
              "<Figure size 432x288 with 1 Axes>"
            ]
          },
          "metadata": {
            "tags": [],
            "needs_background": "light"
          }
        },
        {
          "output_type": "stream",
          "text": [
            "====================\n"
          ],
          "name": "stdout"
        }
      ]
    },
    {
      "cell_type": "markdown",
      "metadata": {
        "id": "UL5ryFODbqXA"
      },
      "source": [
        "# Categorical Data Dummifying"
      ]
    },
    {
      "cell_type": "code",
      "metadata": {
        "id": "Hh5ax2qibqXA"
      },
      "source": [
        "# converting ordinals\n",
        "ordinals_conversor(cat)"
      ],
      "execution_count": null,
      "outputs": []
    },
    {
      "cell_type": "code",
      "metadata": {
        "id": "PnsdtA0obqXB",
        "outputId": "124e5b1b-5732-4950-8fd4-cc56c559eb32"
      },
      "source": [
        "cat['income_level'].unique()"
      ],
      "execution_count": null,
      "outputs": [
        {
          "output_type": "execute_result",
          "data": {
            "text/plain": [
              "array([2, 1, 0])"
            ]
          },
          "metadata": {
            "tags": []
          },
          "execution_count": 28
        }
      ]
    },
    {
      "cell_type": "code",
      "metadata": {
        "scrolled": false,
        "id": "4dC4qmZqbqXB",
        "outputId": "b4afe730-8f9f-44e7-ac1e-b788db03171b"
      },
      "source": [
        "# Dummifying categorical nominals\n",
        "cat_df = pd.get_dummies(cat, columns=['reward', 'mailer_type'])\n",
        "cat_df"
      ],
      "execution_count": null,
      "outputs": [
        {
          "output_type": "execute_result",
          "data": {
            "text/html": [
              "<div>\n",
              "<style scoped>\n",
              "    .dataframe tbody tr th:only-of-type {\n",
              "        vertical-align: middle;\n",
              "    }\n",
              "\n",
              "    .dataframe tbody tr th {\n",
              "        vertical-align: top;\n",
              "    }\n",
              "\n",
              "    .dataframe thead th {\n",
              "        text-align: right;\n",
              "    }\n",
              "</style>\n",
              "<table border=\"1\" class=\"dataframe\">\n",
              "  <thead>\n",
              "    <tr style=\"text-align: right;\">\n",
              "      <th></th>\n",
              "      <th>income_level</th>\n",
              "      <th>overdraft_protection</th>\n",
              "      <th>credit_rating</th>\n",
              "      <th>own_your_home</th>\n",
              "      <th>reward_Air Miles</th>\n",
              "      <th>reward_Cash Back</th>\n",
              "      <th>reward_Points</th>\n",
              "      <th>mailer_type_Letter</th>\n",
              "      <th>mailer_type_Postcard</th>\n",
              "    </tr>\n",
              "  </thead>\n",
              "  <tbody>\n",
              "    <tr>\n",
              "      <th>1</th>\n",
              "      <td>2</td>\n",
              "      <td>0</td>\n",
              "      <td>2</td>\n",
              "      <td>0</td>\n",
              "      <td>1</td>\n",
              "      <td>0</td>\n",
              "      <td>0</td>\n",
              "      <td>1</td>\n",
              "      <td>0</td>\n",
              "    </tr>\n",
              "    <tr>\n",
              "      <th>2</th>\n",
              "      <td>1</td>\n",
              "      <td>0</td>\n",
              "      <td>1</td>\n",
              "      <td>1</td>\n",
              "      <td>1</td>\n",
              "      <td>0</td>\n",
              "      <td>0</td>\n",
              "      <td>1</td>\n",
              "      <td>0</td>\n",
              "    </tr>\n",
              "    <tr>\n",
              "      <th>3</th>\n",
              "      <td>2</td>\n",
              "      <td>0</td>\n",
              "      <td>1</td>\n",
              "      <td>1</td>\n",
              "      <td>1</td>\n",
              "      <td>0</td>\n",
              "      <td>0</td>\n",
              "      <td>0</td>\n",
              "      <td>1</td>\n",
              "    </tr>\n",
              "    <tr>\n",
              "      <th>4</th>\n",
              "      <td>1</td>\n",
              "      <td>0</td>\n",
              "      <td>2</td>\n",
              "      <td>0</td>\n",
              "      <td>1</td>\n",
              "      <td>0</td>\n",
              "      <td>0</td>\n",
              "      <td>1</td>\n",
              "      <td>0</td>\n",
              "    </tr>\n",
              "    <tr>\n",
              "      <th>5</th>\n",
              "      <td>1</td>\n",
              "      <td>0</td>\n",
              "      <td>1</td>\n",
              "      <td>1</td>\n",
              "      <td>1</td>\n",
              "      <td>0</td>\n",
              "      <td>0</td>\n",
              "      <td>1</td>\n",
              "      <td>0</td>\n",
              "    </tr>\n",
              "    <tr>\n",
              "      <th>...</th>\n",
              "      <td>...</td>\n",
              "      <td>...</td>\n",
              "      <td>...</td>\n",
              "      <td>...</td>\n",
              "      <td>...</td>\n",
              "      <td>...</td>\n",
              "      <td>...</td>\n",
              "      <td>...</td>\n",
              "      <td>...</td>\n",
              "    </tr>\n",
              "    <tr>\n",
              "      <th>17996</th>\n",
              "      <td>2</td>\n",
              "      <td>0</td>\n",
              "      <td>0</td>\n",
              "      <td>1</td>\n",
              "      <td>0</td>\n",
              "      <td>1</td>\n",
              "      <td>0</td>\n",
              "      <td>1</td>\n",
              "      <td>0</td>\n",
              "    </tr>\n",
              "    <tr>\n",
              "      <th>17997</th>\n",
              "      <td>2</td>\n",
              "      <td>0</td>\n",
              "      <td>0</td>\n",
              "      <td>1</td>\n",
              "      <td>0</td>\n",
              "      <td>1</td>\n",
              "      <td>0</td>\n",
              "      <td>1</td>\n",
              "      <td>0</td>\n",
              "    </tr>\n",
              "    <tr>\n",
              "      <th>17998</th>\n",
              "      <td>2</td>\n",
              "      <td>0</td>\n",
              "      <td>0</td>\n",
              "      <td>0</td>\n",
              "      <td>0</td>\n",
              "      <td>1</td>\n",
              "      <td>0</td>\n",
              "      <td>1</td>\n",
              "      <td>0</td>\n",
              "    </tr>\n",
              "    <tr>\n",
              "      <th>17999</th>\n",
              "      <td>1</td>\n",
              "      <td>0</td>\n",
              "      <td>1</td>\n",
              "      <td>1</td>\n",
              "      <td>0</td>\n",
              "      <td>1</td>\n",
              "      <td>0</td>\n",
              "      <td>1</td>\n",
              "      <td>0</td>\n",
              "    </tr>\n",
              "    <tr>\n",
              "      <th>18000</th>\n",
              "      <td>0</td>\n",
              "      <td>0</td>\n",
              "      <td>1</td>\n",
              "      <td>0</td>\n",
              "      <td>0</td>\n",
              "      <td>1</td>\n",
              "      <td>0</td>\n",
              "      <td>1</td>\n",
              "      <td>0</td>\n",
              "    </tr>\n",
              "  </tbody>\n",
              "</table>\n",
              "<p>17976 rows × 9 columns</p>\n",
              "</div>"
            ],
            "text/plain": [
              "       income_level  overdraft_protection  credit_rating  own_your_home  \\\n",
              "1                 2                     0              2              0   \n",
              "2                 1                     0              1              1   \n",
              "3                 2                     0              1              1   \n",
              "4                 1                     0              2              0   \n",
              "5                 1                     0              1              1   \n",
              "...             ...                   ...            ...            ...   \n",
              "17996             2                     0              0              1   \n",
              "17997             2                     0              0              1   \n",
              "17998             2                     0              0              0   \n",
              "17999             1                     0              1              1   \n",
              "18000             0                     0              1              0   \n",
              "\n",
              "       reward_Air Miles  reward_Cash Back  reward_Points  mailer_type_Letter  \\\n",
              "1                     1                 0              0                   1   \n",
              "2                     1                 0              0                   1   \n",
              "3                     1                 0              0                   0   \n",
              "4                     1                 0              0                   1   \n",
              "5                     1                 0              0                   1   \n",
              "...                 ...               ...            ...                 ...   \n",
              "17996                 0                 1              0                   1   \n",
              "17997                 0                 1              0                   1   \n",
              "17998                 0                 1              0                   1   \n",
              "17999                 0                 1              0                   1   \n",
              "18000                 0                 1              0                   1   \n",
              "\n",
              "       mailer_type_Postcard  \n",
              "1                         0  \n",
              "2                         0  \n",
              "3                         1  \n",
              "4                         0  \n",
              "5                         0  \n",
              "...                     ...  \n",
              "17996                     0  \n",
              "17997                     0  \n",
              "17998                     0  \n",
              "17999                     0  \n",
              "18000                     0  \n",
              "\n",
              "[17976 rows x 9 columns]"
            ]
          },
          "metadata": {
            "tags": []
          },
          "execution_count": 29
        }
      ]
    },
    {
      "cell_type": "code",
      "metadata": {
        "id": "cFhGrOB-bqXB",
        "outputId": "9db118a0-a0dd-4323-fa08-4abfccc7aeb8"
      },
      "source": [
        "# checking if categoricals are dependent\n",
        "for i in cat.columns:\n",
        "    for v in cat.columns:\n",
        "        if i != v:\n",
        "            print('==========================================================')\n",
        "            print('RELATIONSHIP {} and {}'.format(i.upper(),v.upper()))\n",
        "            chi_test(cat,i,v)"
      ],
      "execution_count": null,
      "outputs": [
        {
          "output_type": "stream",
          "text": [
            "==========================================================\n",
            "RELATIONSHIP REWARD and MAILER_TYPE\n",
            "mailer_type  Letter  Postcard\n",
            "reward                       \n",
            "Air Miles      2946      3101\n",
            "Cash Back      2965      3030\n",
            "Points         2931      3003\n",
            "dof=2\n",
            "[[2974.38662661 3072.61337339]\n",
            " [2948.80896751 3046.19103249]\n",
            " [2918.80440587 3015.19559413]]\n",
            "probability=0.950, critical=5.991, stat=0.808\n",
            "Independent (fail to reject H0)\n",
            "significance=0.050, p=0.668\n",
            "Independent (fail to reject H0)\n",
            "==========================================================\n",
            "==========================================================\n",
            "RELATIONSHIP REWARD and INCOME_LEVEL\n",
            "income_level     0     1     2\n",
            "reward                        \n",
            "Air Miles     1533  3023  1491\n",
            "Cash Back     1466  2993  1536\n",
            "Points        1456  2986  1492\n",
            "dof=4\n",
            "[[1498.63067423 3028.20950156 1520.15982421]\n",
            " [1485.74349132 3002.16900312 1507.08750556]\n",
            " [1470.62583445 2971.62149533 1491.75267023]]\n",
            "probability=0.950, critical=9.488, stat=2.417\n",
            "Independent (fail to reject H0)\n",
            "significance=0.050, p=0.660\n",
            "Independent (fail to reject H0)\n",
            "==========================================================\n",
            "==========================================================\n",
            "RELATIONSHIP REWARD and OVERDRAFT_PROTECTION\n",
            "overdraft_protection     0    1\n",
            "reward                         \n",
            "Air Miles             5122  925\n",
            "Cash Back             5102  893\n",
            "Points                5076  858\n",
            "dof=2\n",
            "[[5146.81241656  900.18758344]\n",
            " [5102.55340454  892.44659546]\n",
            " [5050.63417891  883.36582109]]\n",
            "probability=0.950, critical=5.991, stat=1.660\n",
            "Independent (fail to reject H0)\n",
            "significance=0.050, p=0.436\n",
            "Independent (fail to reject H0)\n",
            "==========================================================\n",
            "==========================================================\n",
            "RELATIONSHIP REWARD and CREDIT_RATING\n",
            "credit_rating     0     1     2\n",
            "reward                         \n",
            "Air Miles      1991  1980  2076\n",
            "Cash Back      2004  1979  2012\n",
            "Points         1953  2005  1976\n",
            "dof=4\n",
            "[[2000.86537606 2006.24766355 2039.88696039]\n",
            " [1983.65932354 1988.9953271  2022.34534935]\n",
            " [1963.4753004  1968.75700935 2001.76769025]]\n",
            "probability=0.950, critical=9.488, stat=2.398\n",
            "Independent (fail to reject H0)\n",
            "significance=0.050, p=0.663\n",
            "Independent (fail to reject H0)\n",
            "==========================================================\n",
            "==========================================================\n",
            "RELATIONSHIP REWARD and OWN_YOUR_HOME\n",
            "own_your_home     0     1\n",
            "reward                   \n",
            "Air Miles      2126  3921\n",
            "Cash Back      2153  3842\n",
            "Points         2061  3873\n",
            "dof=2\n",
            "[[2132.73141967 3914.26858033]\n",
            " [2114.39141077 3880.60858923]\n",
            " [2092.87716956 3841.12283044]]\n",
            "probability=0.950, critical=5.991, stat=1.872\n",
            "Independent (fail to reject H0)\n",
            "significance=0.050, p=0.392\n",
            "Independent (fail to reject H0)\n",
            "==========================================================\n",
            "==========================================================\n",
            "RELATIONSHIP MAILER_TYPE and REWARD\n",
            "reward       Air Miles  Cash Back  Points\n",
            "mailer_type                              \n",
            "Letter            2946       2965    2931\n",
            "Postcard          3101       3030    3003\n",
            "dof=2\n",
            "[[2974.38662661 2948.80896751 2918.80440587]\n",
            " [3072.61337339 3046.19103249 3015.19559413]]\n",
            "probability=0.950, critical=5.991, stat=0.808\n",
            "Independent (fail to reject H0)\n",
            "significance=0.050, p=0.668\n",
            "Independent (fail to reject H0)\n",
            "==========================================================\n",
            "==========================================================\n",
            "RELATIONSHIP MAILER_TYPE and INCOME_LEVEL\n",
            "income_level     0     1     2\n",
            "mailer_type                   \n",
            "Letter        2218  4423  2201\n",
            "Postcard      2237  4579  2318\n",
            "dof=2\n",
            "[[2191.31675567 4427.88629283 2222.79695149]\n",
            " [2263.68324433 4574.11370717 2296.20304851]]\n",
            "probability=0.950, critical=5.991, stat=1.071\n",
            "Independent (fail to reject H0)\n",
            "significance=0.050, p=0.585\n",
            "Independent (fail to reject H0)\n",
            "==========================================================\n",
            "==========================================================\n",
            "RELATIONSHIP MAILER_TYPE and OVERDRAFT_PROTECTION\n",
            "overdraft_protection     0     1\n",
            "mailer_type                     \n",
            "Letter                7535  1307\n",
            "Postcard              7765  1369\n",
            "dof=1\n",
            "[[7525.73431242 1316.26568758]\n",
            " [7774.26568758 1359.73431242]]\n",
            "probability=0.950, critical=3.841, stat=0.135\n",
            "Independent (fail to reject H0)\n",
            "significance=0.050, p=0.713\n",
            "Independent (fail to reject H0)\n",
            "==========================================================\n",
            "==========================================================\n",
            "RELATIONSHIP MAILER_TYPE and CREDIT_RATING\n",
            "credit_rating     0     1     2\n",
            "mailer_type                    \n",
            "Letter         2911  2959  2972\n",
            "Postcard       3037  3005  3092\n",
            "dof=2\n",
            "[[2925.69069871 2933.56074766 2982.74855363]\n",
            " [3022.30930129 3030.43925234 3081.25144637]]\n",
            "probability=0.950, critical=5.991, stat=0.656\n",
            "Independent (fail to reject H0)\n",
            "significance=0.050, p=0.721\n",
            "Independent (fail to reject H0)\n",
            "==========================================================\n",
            "==========================================================\n",
            "RELATIONSHIP MAILER_TYPE and OWN_YOUR_HOME\n",
            "own_your_home     0     1\n",
            "mailer_type              \n",
            "Letter         3100  5742\n",
            "Postcard       3240  5894\n",
            "dof=1\n",
            "[[3118.50689809 5723.49310191]\n",
            " [3221.49310191 5912.50689809]]\n",
            "probability=0.950, critical=3.841, stat=0.316\n",
            "Independent (fail to reject H0)\n",
            "significance=0.050, p=0.574\n",
            "Independent (fail to reject H0)\n",
            "==========================================================\n",
            "==========================================================\n",
            "RELATIONSHIP INCOME_LEVEL and REWARD\n",
            "reward        Air Miles  Cash Back  Points\n",
            "income_level                              \n",
            "0                  1533       1466    1456\n",
            "1                  3023       2993    2986\n",
            "2                  1491       1536    1492\n",
            "dof=4\n",
            "[[1498.63067423 1485.74349132 1470.62583445]\n",
            " [3028.20950156 3002.16900312 2971.62149533]\n",
            " [1520.15982421 1507.08750556 1491.75267023]]\n",
            "probability=0.950, critical=9.488, stat=2.417\n",
            "Independent (fail to reject H0)\n",
            "significance=0.050, p=0.660\n",
            "Independent (fail to reject H0)\n",
            "==========================================================\n",
            "==========================================================\n",
            "RELATIONSHIP INCOME_LEVEL and MAILER_TYPE\n",
            "mailer_type   Letter  Postcard\n",
            "income_level                  \n",
            "0               2218      2237\n",
            "1               4423      4579\n",
            "2               2201      2318\n",
            "dof=2\n",
            "[[2191.31675567 2263.68324433]\n",
            " [4427.88629283 4574.11370717]\n",
            " [2222.79695149 2296.20304851]]\n",
            "probability=0.950, critical=5.991, stat=1.071\n",
            "Independent (fail to reject H0)\n",
            "significance=0.050, p=0.585\n",
            "Independent (fail to reject H0)\n",
            "==========================================================\n",
            "==========================================================\n",
            "RELATIONSHIP INCOME_LEVEL and OVERDRAFT_PROTECTION\n",
            "overdraft_protection     0     1\n",
            "income_level                    \n",
            "0                     3782   673\n",
            "1                     7649  1353\n",
            "2                     3869   650\n",
            "dof=2\n",
            "[[3791.80574099  663.19425901]\n",
            " [7661.91588785 1340.08411215]\n",
            " [3846.27837116  672.72162884]]\n",
            "probability=0.950, critical=5.991, stat=1.218\n",
            "Independent (fail to reject H0)\n",
            "significance=0.050, p=0.544\n",
            "Independent (fail to reject H0)\n",
            "==========================================================\n",
            "==========================================================\n",
            "RELATIONSHIP INCOME_LEVEL and CREDIT_RATING\n",
            "credit_rating     0     1     2\n",
            "income_level                   \n",
            "0              1439  1477  1539\n",
            "1              2983  3006  3013\n",
            "2              1526  1481  1512\n",
            "dof=4\n",
            "[[1474.09546061 1478.06074766 1502.84379172]\n",
            " [2978.63239875 2986.64485981 3036.72274143]\n",
            " [1495.27214063 1499.29439252 1524.43346684]]\n",
            "probability=0.950, critical=9.488, stat=2.979\n",
            "Independent (fail to reject H0)\n",
            "significance=0.050, p=0.561\n",
            "Independent (fail to reject H0)\n",
            "==========================================================\n",
            "==========================================================\n",
            "RELATIONSHIP INCOME_LEVEL and OWN_YOUR_HOME\n",
            "own_your_home     0     1\n",
            "income_level             \n",
            "0              1551  2904\n",
            "1              3155  5847\n",
            "2              1634  2885\n",
            "dof=2\n",
            "[[1571.24499332 2883.75500668]\n",
            " [3174.9376947  5827.0623053 ]\n",
            " [1593.81731197 2925.18268803]]\n",
            "probability=0.950, critical=5.991, stat=2.161\n",
            "Independent (fail to reject H0)\n",
            "significance=0.050, p=0.339\n",
            "Independent (fail to reject H0)\n",
            "==========================================================\n",
            "==========================================================\n",
            "RELATIONSHIP OVERDRAFT_PROTECTION and REWARD\n",
            "reward                Air Miles  Cash Back  Points\n",
            "overdraft_protection                              \n",
            "0                          5122       5102    5076\n",
            "1                           925        893     858\n",
            "dof=2\n",
            "[[5146.81241656 5102.55340454 5050.63417891]\n",
            " [ 900.18758344  892.44659546  883.36582109]]\n",
            "probability=0.950, critical=5.991, stat=1.660\n",
            "Independent (fail to reject H0)\n",
            "significance=0.050, p=0.436\n",
            "Independent (fail to reject H0)\n",
            "==========================================================\n",
            "==========================================================\n",
            "RELATIONSHIP OVERDRAFT_PROTECTION and MAILER_TYPE\n",
            "mailer_type           Letter  Postcard\n",
            "overdraft_protection                  \n",
            "0                       7535      7765\n",
            "1                       1307      1369\n",
            "dof=1\n",
            "[[7525.73431242 7774.26568758]\n",
            " [1316.26568758 1359.73431242]]\n",
            "probability=0.950, critical=3.841, stat=0.135\n",
            "Independent (fail to reject H0)\n",
            "significance=0.050, p=0.713\n",
            "Independent (fail to reject H0)\n",
            "==========================================================\n",
            "==========================================================\n",
            "RELATIONSHIP OVERDRAFT_PROTECTION and INCOME_LEVEL\n",
            "income_level             0     1     2\n",
            "overdraft_protection                  \n",
            "0                     3782  7649  3869\n",
            "1                      673  1353   650\n",
            "dof=2\n",
            "[[3791.80574099 7661.91588785 3846.27837116]\n",
            " [ 663.19425901 1340.08411215  672.72162884]]\n",
            "probability=0.950, critical=5.991, stat=1.218\n",
            "Independent (fail to reject H0)\n",
            "significance=0.050, p=0.544\n",
            "Independent (fail to reject H0)\n",
            "==========================================================\n",
            "==========================================================\n",
            "RELATIONSHIP OVERDRAFT_PROTECTION and CREDIT_RATING\n",
            "credit_rating            0     1     2\n",
            "overdraft_protection                  \n",
            "0                     5069  5051  5180\n"
          ],
          "name": "stdout"
        },
        {
          "output_type": "stream",
          "text": [
            "1                      879   913   884\n",
            "dof=2\n",
            "[[5062.55006676 5076.1682243  5161.28170895]\n",
            " [ 885.44993324  887.8317757   902.71829105]]\n",
            "probability=0.950, critical=5.991, stat=1.349\n",
            "Independent (fail to reject H0)\n",
            "significance=0.050, p=0.509\n",
            "Independent (fail to reject H0)\n",
            "==========================================================\n",
            "==========================================================\n",
            "RELATIONSHIP OVERDRAFT_PROTECTION and OWN_YOUR_HOME\n",
            "own_your_home            0     1\n",
            "overdraft_protection            \n",
            "0                     5422  9878\n",
            "1                      918  1758\n",
            "dof=1\n",
            "[[5396.19492657 9903.80507343]\n",
            " [ 943.80507343 1732.19492657]]\n",
            "probability=0.950, critical=3.841, stat=1.231\n",
            "Independent (fail to reject H0)\n",
            "significance=0.050, p=0.267\n",
            "Independent (fail to reject H0)\n",
            "==========================================================\n",
            "==========================================================\n",
            "RELATIONSHIP CREDIT_RATING and REWARD\n",
            "reward         Air Miles  Cash Back  Points\n",
            "credit_rating                              \n",
            "0                   1991       2004    1953\n",
            "1                   1980       1979    2005\n",
            "2                   2076       2012    1976\n",
            "dof=4\n",
            "[[2000.86537606 1983.65932354 1963.4753004 ]\n",
            " [2006.24766355 1988.9953271  1968.75700935]\n",
            " [2039.88696039 2022.34534935 2001.76769025]]\n",
            "probability=0.950, critical=9.488, stat=2.398\n",
            "Independent (fail to reject H0)\n",
            "significance=0.050, p=0.663\n",
            "Independent (fail to reject H0)\n",
            "==========================================================\n",
            "==========================================================\n",
            "RELATIONSHIP CREDIT_RATING and MAILER_TYPE\n",
            "mailer_type    Letter  Postcard\n",
            "credit_rating                  \n",
            "0                2911      3037\n",
            "1                2959      3005\n",
            "2                2972      3092\n",
            "dof=2\n",
            "[[2925.69069871 3022.30930129]\n",
            " [2933.56074766 3030.43925234]\n",
            " [2982.74855363 3081.25144637]]\n",
            "probability=0.950, critical=5.991, stat=0.656\n",
            "Independent (fail to reject H0)\n",
            "significance=0.050, p=0.721\n",
            "Independent (fail to reject H0)\n",
            "==========================================================\n",
            "==========================================================\n",
            "RELATIONSHIP CREDIT_RATING and INCOME_LEVEL\n",
            "income_level      0     1     2\n",
            "credit_rating                  \n",
            "0              1439  2983  1526\n",
            "1              1477  3006  1481\n",
            "2              1539  3013  1512\n",
            "dof=4\n",
            "[[1474.09546061 2978.63239875 1495.27214063]\n",
            " [1478.06074766 2986.64485981 1499.29439252]\n",
            " [1502.84379172 3036.72274143 1524.43346684]]\n",
            "probability=0.950, critical=9.488, stat=2.979\n",
            "Independent (fail to reject H0)\n",
            "significance=0.050, p=0.561\n",
            "Independent (fail to reject H0)\n",
            "==========================================================\n",
            "==========================================================\n",
            "RELATIONSHIP CREDIT_RATING and OVERDRAFT_PROTECTION\n",
            "overdraft_protection     0    1\n",
            "credit_rating                  \n",
            "0                     5069  879\n",
            "1                     5051  913\n",
            "2                     5180  884\n",
            "dof=2\n",
            "[[5062.55006676  885.44993324]\n",
            " [5076.1682243   887.8317757 ]\n",
            " [5161.28170895  902.71829105]]\n",
            "probability=0.950, critical=5.991, stat=1.349\n",
            "Independent (fail to reject H0)\n",
            "significance=0.050, p=0.509\n",
            "Independent (fail to reject H0)\n",
            "==========================================================\n",
            "==========================================================\n",
            "RELATIONSHIP CREDIT_RATING and OWN_YOUR_HOME\n",
            "own_your_home     0     1\n",
            "credit_rating            \n",
            "0              2124  3824\n",
            "1              2076  3888\n",
            "2              2140  3924\n",
            "dof=2\n",
            "[[2097.81486426 3850.18513574]\n",
            " [2103.45794393 3860.54205607]\n",
            " [2138.72719181 3925.27280819]]\n",
            "probability=0.950, critical=5.991, stat=1.060\n",
            "Independent (fail to reject H0)\n",
            "significance=0.050, p=0.589\n",
            "Independent (fail to reject H0)\n",
            "==========================================================\n",
            "==========================================================\n",
            "RELATIONSHIP OWN_YOUR_HOME and REWARD\n",
            "reward         Air Miles  Cash Back  Points\n",
            "own_your_home                              \n",
            "0                   2126       2153    2061\n",
            "1                   3921       3842    3873\n",
            "dof=2\n",
            "[[2132.73141967 2114.39141077 2092.87716956]\n",
            " [3914.26858033 3880.60858923 3841.12283044]]\n",
            "probability=0.950, critical=5.991, stat=1.872\n",
            "Independent (fail to reject H0)\n",
            "significance=0.050, p=0.392\n",
            "Independent (fail to reject H0)\n",
            "==========================================================\n",
            "==========================================================\n",
            "RELATIONSHIP OWN_YOUR_HOME and MAILER_TYPE\n",
            "mailer_type    Letter  Postcard\n",
            "own_your_home                  \n",
            "0                3100      3240\n",
            "1                5742      5894\n",
            "dof=1\n",
            "[[3118.50689809 3221.49310191]\n",
            " [5723.49310191 5912.50689809]]\n",
            "probability=0.950, critical=3.841, stat=0.316\n",
            "Independent (fail to reject H0)\n",
            "significance=0.050, p=0.574\n",
            "Independent (fail to reject H0)\n",
            "==========================================================\n",
            "==========================================================\n",
            "RELATIONSHIP OWN_YOUR_HOME and INCOME_LEVEL\n",
            "income_level      0     1     2\n",
            "own_your_home                  \n",
            "0              1551  3155  1634\n",
            "1              2904  5847  2885\n",
            "dof=2\n",
            "[[1571.24499332 3174.9376947  1593.81731197]\n",
            " [2883.75500668 5827.0623053  2925.18268803]]\n",
            "probability=0.950, critical=5.991, stat=2.161\n",
            "Independent (fail to reject H0)\n",
            "significance=0.050, p=0.339\n",
            "Independent (fail to reject H0)\n",
            "==========================================================\n",
            "==========================================================\n",
            "RELATIONSHIP OWN_YOUR_HOME and OVERDRAFT_PROTECTION\n",
            "overdraft_protection     0     1\n",
            "own_your_home                   \n",
            "0                     5422   918\n",
            "1                     9878  1758\n",
            "dof=1\n",
            "[[5396.19492657  943.80507343]\n",
            " [9903.80507343 1732.19492657]]\n",
            "probability=0.950, critical=3.841, stat=1.231\n",
            "Independent (fail to reject H0)\n",
            "significance=0.050, p=0.267\n",
            "Independent (fail to reject H0)\n",
            "==========================================================\n",
            "==========================================================\n",
            "RELATIONSHIP OWN_YOUR_HOME and CREDIT_RATING\n",
            "credit_rating     0     1     2\n",
            "own_your_home                  \n",
            "0              2124  2076  2140\n",
            "1              3824  3888  3924\n",
            "dof=2\n",
            "[[2097.81486426 2103.45794393 2138.72719181]\n",
            " [3850.18513574 3860.54205607 3925.27280819]]\n",
            "probability=0.950, critical=5.991, stat=1.060\n",
            "Independent (fail to reject H0)\n",
            "significance=0.050, p=0.589\n",
            "Independent (fail to reject H0)\n",
            "==========================================================\n"
          ],
          "name": "stdout"
        }
      ]
    },
    {
      "cell_type": "markdown",
      "metadata": {
        "id": "y1UPuhIEbqXC"
      },
      "source": [
        "# Train-test split"
      ]
    },
    {
      "cell_type": "code",
      "metadata": {
        "id": "1taf3DXcbqXD"
      },
      "source": [
        "y = df['offer_accepted']\n",
        "X = pd.concat([cat_df,num],axis=1)"
      ],
      "execution_count": null,
      "outputs": []
    },
    {
      "cell_type": "code",
      "metadata": {
        "id": "uwT_Q5PLbqXD",
        "outputId": "85ef0580-c498-42cf-a6e3-44d8178315c0"
      },
      "source": [
        "#Now define a function that takes a list of models and train (and tests) them so we\n",
        "#can try a lot of them without repeating code.\n",
        "def models(data, y, target, mode, k = 5, test_size=0.3, multiclass = 'multinomial'):\n",
        "    # Train Test split\n",
        "    from sklearn.model_selection import train_test_split\n",
        "    X_train, X_test, y_train, y_test = train_test_split(X, y, test_size=test_size, random_state=42)\n",
        "    # linear model\n",
        "    if mode == 'linear_model':\n",
        "        from sklearn import linear_model\n",
        "        lm = linear_model.LinearRegression()\n",
        "        model =lm.fit(X_train,y_train)\n",
        "        predictions  = lm.predict(X_test)\n",
        "        predictions_df = pd.DataFrame(predictions, columns=[y.name])\n",
        "    # K NeighborsRegressor\n",
        "    elif mode == 'k-nn':\n",
        "        from sklearn.neighbors import KNeighborsClassifier\n",
        "        from sklearn.metrics import cohen_kappa_score\n",
        "        model = KNeighborsClassifier(n_neighbors=k) # The keyword \"n_neighbors\" is what sets the K.\n",
        "        model.fit(X_train, y_train)\n",
        "        predictions = model.predict(X_test)\n",
        "        predictions_df = pd.DataFrame(predictions, columns=[y.name])\n",
        "        from sklearn.metrics import accuracy_score\n",
        "        accuracy_score(predictions,y_test)\n",
        "        print('K-NN MODEL')\n",
        "        print ('The accuracy of KNN test is {}'.format(round(accuracy_score(predictions,y_test))))\n",
        "        print(\"The kappa of the model is: \", cohen_kappa_score(y,model.predict(X)))\n",
        "        print('====================================================')\n",
        "    # Logistic model\n",
        "    elif mode == 'logistic':\n",
        "        from sklearn.linear_model import LogisticRegression\n",
        "        from sklearn.metrics import cohen_kappa_score\n",
        "        model = LogisticRegression(random_state=0, solver='lbfgs', multi_class=multiclass).fit(X_train, y_train)\n",
        "        predictions = model.predict(X_test)\n",
        "        predictions_df = pd.DataFrame(model.predict(X_test))\n",
        "        print('LOGISTIC MODEL')\n",
        "        print(\"The accuracy of the LOGISTC model in the TEST set is: \", round(model.score(X_test, y_test),2))\n",
        "        print(\"The kappa of the model is: \", cohen_kappa_score(y,model.predict(X)))\n",
        "        print('====================================================')\n",
        "    # ML Progressor\n",
        "    elif mode == 'mlpregressor':\n",
        "        from sklearn.neural_network import MLPRegressor\n",
        "        model = MLPRegressor(random_state=1, max_iter=500).fit(X_train, y_train)\n",
        "        predictions = model.predict(X_test)\n",
        "        predictions_df = pd.DataFrame(predictions, columns=[y.name])\n",
        "    # Dicision Tree\n",
        "    elif mode == 'decisiontree':\n",
        "        from sklearn import tree\n",
        "        from sklearn.metrics import cohen_kappa_score\n",
        "        model = tree.DecisionTreeClassifier()\n",
        "        predictions = model.fit(X_train, y_train)\n",
        "        predictions_df = pd.DataFrame(model.predict(X_test))\n",
        "        print('DECISION TREE MODEL')\n",
        "        print(\"The accuracy of the DECISION TRREE model in the TEST set is: \", round(model.score(X_test, y_test),2))\n",
        "        print(\"The kappa of the model is: \", cohen_kappa_score(y,model.predict(X)))\n",
        "        print('====================================================')\n",
        "    else:\n",
        "        print('something went wrong')\n",
        "        print('====================================================')\n",
        "    return predictions, predictions_df, model\n",
        "\n",
        "predictions, predictions_df, model = models(X,y, 'offer_accepted', 'logistic')\n",
        "predictions, predictions_df, model = models(X,y, 'offer_accepted', 'decisiontree')\n",
        "predictions, predictions_df, model = models(X,y, 'offer_accepted', 'k-nn')"
      ],
      "execution_count": null,
      "outputs": [
        {
          "output_type": "stream",
          "text": [
            "LOGISTIC MODEL\n",
            "The accuracy of the LOGISTC model in the TEST set is:  0.94\n",
            "The kappa of the model is:  0.0\n",
            "====================================================\n",
            "DECISION TREE MODEL\n",
            "The accuracy of the DECISION TRREE model in the TEST set is:  0.88\n",
            "The kappa of the model is:  0.6845158750786628\n",
            "====================================================\n",
            "K-NN MODEL\n",
            "The accuracy of KNN test is 1\n",
            "The kappa of the model is:  0.02411911872569772\n",
            "====================================================\n"
          ],
          "name": "stdout"
        }
      ]
    },
    {
      "cell_type": "markdown",
      "metadata": {
        "id": "tq5arSBHbqXE"
      },
      "source": [
        "# Numrical data preprocessing"
      ]
    },
    {
      "cell_type": "code",
      "metadata": {
        "id": "DAkY5Fo6bqXF",
        "outputId": "0f3ff851-00f3-40f9-b238-6a07310a925a"
      },
      "source": [
        "X2= X.copy()\n",
        "from sklearn.preprocessing import PowerTransformer\n",
        "pt = PowerTransformer()\n",
        "pt.fit(X2)\n",
        "transformed = pt.transform(X2) #this is a numpy array\n",
        "pt = pd.DataFrame(transformed,columns = X.columns)\n",
        "pt"
      ],
      "execution_count": null,
      "outputs": [
        {
          "output_type": "execute_result",
          "data": {
            "text/html": [
              "<div>\n",
              "<style scoped>\n",
              "    .dataframe tbody tr th:only-of-type {\n",
              "        vertical-align: middle;\n",
              "    }\n",
              "\n",
              "    .dataframe tbody tr th {\n",
              "        vertical-align: top;\n",
              "    }\n",
              "\n",
              "    .dataframe thead th {\n",
              "        text-align: right;\n",
              "    }\n",
              "</style>\n",
              "<table border=\"1\" class=\"dataframe\">\n",
              "  <thead>\n",
              "    <tr style=\"text-align: right;\">\n",
              "      <th></th>\n",
              "      <th>income_level</th>\n",
              "      <th>overdraft_protection</th>\n",
              "      <th>credit_rating</th>\n",
              "      <th>own_your_home</th>\n",
              "      <th>reward_Air Miles</th>\n",
              "      <th>reward_Cash Back</th>\n",
              "      <th>reward_Points</th>\n",
              "      <th>mailer_type_Letter</th>\n",
              "      <th>mailer_type_Postcard</th>\n",
              "      <th>bank_accounts_open</th>\n",
              "      <th>credit_cards_held</th>\n",
              "      <th>homes_owned</th>\n",
              "      <th>household_size</th>\n",
              "      <th>avg_balance</th>\n",
              "      <th>q1_balance</th>\n",
              "      <th>q2_balance</th>\n",
              "      <th>q3_balance</th>\n",
              "      <th>q4_balance</th>\n",
              "    </tr>\n",
              "  </thead>\n",
              "  <tbody>\n",
              "    <tr>\n",
              "      <th>0</th>\n",
              "      <td>1.373150</td>\n",
              "      <td>-0.418213</td>\n",
              "      <td>1.170680</td>\n",
              "      <td>-1.354744</td>\n",
              "      <td>1.404533</td>\n",
              "      <td>-0.707372</td>\n",
              "      <td>-0.70198</td>\n",
              "      <td>1.016378</td>\n",
              "      <td>-1.016378</td>\n",
              "      <td>-0.560887</td>\n",
              "      <td>0.275786</td>\n",
              "      <td>-0.489441</td>\n",
              "      <td>0.456447</td>\n",
              "      <td>0.616723</td>\n",
              "      <td>1.146668</td>\n",
              "      <td>-0.251899</td>\n",
              "      <td>0.184885</td>\n",
              "      <td>0.505440</td>\n",
              "    </tr>\n",
              "    <tr>\n",
              "      <th>1</th>\n",
              "      <td>0.031319</td>\n",
              "      <td>-0.418213</td>\n",
              "      <td>0.078591</td>\n",
              "      <td>0.738147</td>\n",
              "      <td>1.404533</td>\n",
              "      <td>-0.707372</td>\n",
              "      <td>-0.70198</td>\n",
              "      <td>1.016378</td>\n",
              "      <td>-1.016378</td>\n",
              "      <td>-0.560887</td>\n",
              "      <td>0.275786</td>\n",
              "      <td>2.042056</td>\n",
              "      <td>1.337890</td>\n",
              "      <td>-2.027382</td>\n",
              "      <td>-1.973363</td>\n",
              "      <td>-1.998067</td>\n",
              "      <td>-2.098818</td>\n",
              "      <td>-0.696218</td>\n",
              "    </tr>\n",
              "    <tr>\n",
              "      <th>2</th>\n",
              "      <td>1.373150</td>\n",
              "      <td>-0.418213</td>\n",
              "      <td>0.078591</td>\n",
              "      <td>0.738147</td>\n",
              "      <td>1.404533</td>\n",
              "      <td>-0.707372</td>\n",
              "      <td>-0.70198</td>\n",
              "      <td>-0.983886</td>\n",
              "      <td>0.983886</td>\n",
              "      <td>1.778675</td>\n",
              "      <td>0.275786</td>\n",
              "      <td>-0.489441</td>\n",
              "      <td>-1.352034</td>\n",
              "      <td>-1.788324</td>\n",
              "      <td>-0.793575</td>\n",
              "      <td>-1.420652</td>\n",
              "      <td>-1.862524</td>\n",
              "      <td>-1.048943</td>\n",
              "    </tr>\n",
              "    <tr>\n",
              "      <th>3</th>\n",
              "      <td>0.031319</td>\n",
              "      <td>-0.418213</td>\n",
              "      <td>1.170680</td>\n",
              "      <td>-1.354744</td>\n",
              "      <td>1.404533</td>\n",
              "      <td>-0.707372</td>\n",
              "      <td>-0.70198</td>\n",
              "      <td>1.016378</td>\n",
              "      <td>-1.016378</td>\n",
              "      <td>1.778675</td>\n",
              "      <td>-1.242482</td>\n",
              "      <td>-0.489441</td>\n",
              "      <td>0.456447</td>\n",
              "      <td>0.806347</td>\n",
              "      <td>1.046546</td>\n",
              "      <td>1.635161</td>\n",
              "      <td>0.225748</td>\n",
              "      <td>-0.565470</td>\n",
              "    </tr>\n",
              "    <tr>\n",
              "      <th>4</th>\n",
              "      <td>0.031319</td>\n",
              "      <td>-0.418213</td>\n",
              "      <td>0.078591</td>\n",
              "      <td>0.738147</td>\n",
              "      <td>1.404533</td>\n",
              "      <td>-0.707372</td>\n",
              "      <td>-0.70198</td>\n",
              "      <td>1.016378</td>\n",
              "      <td>-1.016378</td>\n",
              "      <td>-0.560887</td>\n",
              "      <td>0.275786</td>\n",
              "      <td>-0.489441</td>\n",
              "      <td>2.207930</td>\n",
              "      <td>0.780125</td>\n",
              "      <td>1.624969</td>\n",
              "      <td>0.782233</td>\n",
              "      <td>-0.011469</td>\n",
              "      <td>-0.698780</td>\n",
              "    </tr>\n",
              "    <tr>\n",
              "      <th>...</th>\n",
              "      <td>...</td>\n",
              "      <td>...</td>\n",
              "      <td>...</td>\n",
              "      <td>...</td>\n",
              "      <td>...</td>\n",
              "      <td>...</td>\n",
              "      <td>...</td>\n",
              "      <td>...</td>\n",
              "      <td>...</td>\n",
              "      <td>...</td>\n",
              "      <td>...</td>\n",
              "      <td>...</td>\n",
              "      <td>...</td>\n",
              "      <td>...</td>\n",
              "      <td>...</td>\n",
              "      <td>...</td>\n",
              "      <td>...</td>\n",
              "      <td>...</td>\n",
              "    </tr>\n",
              "    <tr>\n",
              "      <th>17971</th>\n",
              "      <td>1.373150</td>\n",
              "      <td>-0.418213</td>\n",
              "      <td>-1.272313</td>\n",
              "      <td>0.738147</td>\n",
              "      <td>-0.711980</td>\n",
              "      <td>1.413683</td>\n",
              "      <td>-0.70198</td>\n",
              "      <td>1.016378</td>\n",
              "      <td>-1.016378</td>\n",
              "      <td>-0.560887</td>\n",
              "      <td>-1.242482</td>\n",
              "      <td>-0.489441</td>\n",
              "      <td>1.337890</td>\n",
              "      <td>-1.993261</td>\n",
              "      <td>-1.475298</td>\n",
              "      <td>-2.099144</td>\n",
              "      <td>-2.126644</td>\n",
              "      <td>-0.616148</td>\n",
              "    </tr>\n",
              "    <tr>\n",
              "      <th>17972</th>\n",
              "      <td>1.373150</td>\n",
              "      <td>-0.418213</td>\n",
              "      <td>-1.272313</td>\n",
              "      <td>0.738147</td>\n",
              "      <td>-0.711980</td>\n",
              "      <td>1.413683</td>\n",
              "      <td>-0.70198</td>\n",
              "      <td>1.016378</td>\n",
              "      <td>-1.016378</td>\n",
              "      <td>-0.560887</td>\n",
              "      <td>1.297965</td>\n",
              "      <td>-0.489441</td>\n",
              "      <td>-0.438908</td>\n",
              "      <td>-0.338521</td>\n",
              "      <td>0.303197</td>\n",
              "      <td>-0.114744</td>\n",
              "      <td>-0.080868</td>\n",
              "      <td>-0.307413</td>\n",
              "    </tr>\n",
              "    <tr>\n",
              "      <th>17973</th>\n",
              "      <td>1.373150</td>\n",
              "      <td>-0.418213</td>\n",
              "      <td>-1.272313</td>\n",
              "      <td>-1.354744</td>\n",
              "      <td>-0.711980</td>\n",
              "      <td>1.413683</td>\n",
              "      <td>-0.70198</td>\n",
              "      <td>1.016378</td>\n",
              "      <td>-1.016378</td>\n",
              "      <td>-0.560887</td>\n",
              "      <td>0.275786</td>\n",
              "      <td>-0.489441</td>\n",
              "      <td>0.456447</td>\n",
              "      <td>0.381862</td>\n",
              "      <td>0.207612</td>\n",
              "      <td>-0.492645</td>\n",
              "      <td>0.311679</td>\n",
              "      <td>1.160022</td>\n",
              "    </tr>\n",
              "    <tr>\n",
              "      <th>17974</th>\n",
              "      <td>0.031319</td>\n",
              "      <td>-0.418213</td>\n",
              "      <td>0.078591</td>\n",
              "      <td>0.738147</td>\n",
              "      <td>-0.711980</td>\n",
              "      <td>1.413683</td>\n",
              "      <td>-0.70198</td>\n",
              "      <td>1.016378</td>\n",
              "      <td>-1.016378</td>\n",
              "      <td>-0.560887</td>\n",
              "      <td>2.060783</td>\n",
              "      <td>2.042056</td>\n",
              "      <td>-1.352034</td>\n",
              "      <td>0.178423</td>\n",
              "      <td>-0.265226</td>\n",
              "      <td>-0.021410</td>\n",
              "      <td>-0.222451</td>\n",
              "      <td>1.302310</td>\n",
              "    </tr>\n",
              "    <tr>\n",
              "      <th>17975</th>\n",
              "      <td>-1.456161</td>\n",
              "      <td>-0.418213</td>\n",
              "      <td>0.078591</td>\n",
              "      <td>-1.354744</td>\n",
              "      <td>-0.711980</td>\n",
              "      <td>1.413683</td>\n",
              "      <td>-0.70198</td>\n",
              "      <td>1.016378</td>\n",
              "      <td>-1.016378</td>\n",
              "      <td>1.778675</td>\n",
              "      <td>0.275786</td>\n",
              "      <td>-0.489441</td>\n",
              "      <td>-0.438908</td>\n",
              "      <td>0.283544</td>\n",
              "      <td>-1.054443</td>\n",
              "      <td>0.826978</td>\n",
              "      <td>1.548641</td>\n",
              "      <td>-0.170038</td>\n",
              "    </tr>\n",
              "  </tbody>\n",
              "</table>\n",
              "<p>17976 rows × 18 columns</p>\n",
              "</div>"
            ],
            "text/plain": [
              "       income_level  overdraft_protection  credit_rating  own_your_home  \\\n",
              "0          1.373150             -0.418213       1.170680      -1.354744   \n",
              "1          0.031319             -0.418213       0.078591       0.738147   \n",
              "2          1.373150             -0.418213       0.078591       0.738147   \n",
              "3          0.031319             -0.418213       1.170680      -1.354744   \n",
              "4          0.031319             -0.418213       0.078591       0.738147   \n",
              "...             ...                   ...            ...            ...   \n",
              "17971      1.373150             -0.418213      -1.272313       0.738147   \n",
              "17972      1.373150             -0.418213      -1.272313       0.738147   \n",
              "17973      1.373150             -0.418213      -1.272313      -1.354744   \n",
              "17974      0.031319             -0.418213       0.078591       0.738147   \n",
              "17975     -1.456161             -0.418213       0.078591      -1.354744   \n",
              "\n",
              "       reward_Air Miles  reward_Cash Back  reward_Points  mailer_type_Letter  \\\n",
              "0              1.404533         -0.707372       -0.70198            1.016378   \n",
              "1              1.404533         -0.707372       -0.70198            1.016378   \n",
              "2              1.404533         -0.707372       -0.70198           -0.983886   \n",
              "3              1.404533         -0.707372       -0.70198            1.016378   \n",
              "4              1.404533         -0.707372       -0.70198            1.016378   \n",
              "...                 ...               ...            ...                 ...   \n",
              "17971         -0.711980          1.413683       -0.70198            1.016378   \n",
              "17972         -0.711980          1.413683       -0.70198            1.016378   \n",
              "17973         -0.711980          1.413683       -0.70198            1.016378   \n",
              "17974         -0.711980          1.413683       -0.70198            1.016378   \n",
              "17975         -0.711980          1.413683       -0.70198            1.016378   \n",
              "\n",
              "       mailer_type_Postcard  bank_accounts_open  credit_cards_held  \\\n",
              "0                 -1.016378           -0.560887           0.275786   \n",
              "1                 -1.016378           -0.560887           0.275786   \n",
              "2                  0.983886            1.778675           0.275786   \n",
              "3                 -1.016378            1.778675          -1.242482   \n",
              "4                 -1.016378           -0.560887           0.275786   \n",
              "...                     ...                 ...                ...   \n",
              "17971             -1.016378           -0.560887          -1.242482   \n",
              "17972             -1.016378           -0.560887           1.297965   \n",
              "17973             -1.016378           -0.560887           0.275786   \n",
              "17974             -1.016378           -0.560887           2.060783   \n",
              "17975             -1.016378            1.778675           0.275786   \n",
              "\n",
              "       homes_owned  household_size  avg_balance  q1_balance  q2_balance  \\\n",
              "0        -0.489441        0.456447     0.616723    1.146668   -0.251899   \n",
              "1         2.042056        1.337890    -2.027382   -1.973363   -1.998067   \n",
              "2        -0.489441       -1.352034    -1.788324   -0.793575   -1.420652   \n",
              "3        -0.489441        0.456447     0.806347    1.046546    1.635161   \n",
              "4        -0.489441        2.207930     0.780125    1.624969    0.782233   \n",
              "...            ...             ...          ...         ...         ...   \n",
              "17971    -0.489441        1.337890    -1.993261   -1.475298   -2.099144   \n",
              "17972    -0.489441       -0.438908    -0.338521    0.303197   -0.114744   \n",
              "17973    -0.489441        0.456447     0.381862    0.207612   -0.492645   \n",
              "17974     2.042056       -1.352034     0.178423   -0.265226   -0.021410   \n",
              "17975    -0.489441       -0.438908     0.283544   -1.054443    0.826978   \n",
              "\n",
              "       q3_balance  q4_balance  \n",
              "0        0.184885    0.505440  \n",
              "1       -2.098818   -0.696218  \n",
              "2       -1.862524   -1.048943  \n",
              "3        0.225748   -0.565470  \n",
              "4       -0.011469   -0.698780  \n",
              "...           ...         ...  \n",
              "17971   -2.126644   -0.616148  \n",
              "17972   -0.080868   -0.307413  \n",
              "17973    0.311679    1.160022  \n",
              "17974   -0.222451    1.302310  \n",
              "17975    1.548641   -0.170038  \n",
              "\n",
              "[17976 rows x 18 columns]"
            ]
          },
          "metadata": {
            "tags": []
          },
          "execution_count": 33
        }
      ]
    },
    {
      "cell_type": "code",
      "metadata": {
        "id": "TEd-938mbqXG",
        "outputId": "9d391aef-7cbf-45d7-d592-39e5f43394d2"
      },
      "source": [
        "plots(pt,'continuous')"
      ],
      "execution_count": null,
      "outputs": [
        {
          "output_type": "stream",
          "text": [
            "Column:  income_level\n",
            "====================\n"
          ],
          "name": "stdout"
        },
        {
          "output_type": "display_data",
          "data": {
            "image/png": "[encoded data removed]",
            "text/plain": [
              "<Figure size 432x288 with 1 Axes>"
            ]
          },
          "metadata": {
            "tags": [],
            "needs_background": "light"
          }
        },
        {
          "output_type": "stream",
          "text": [
            "====================\n",
            "Column:  overdraft_protection\n",
            "====================\n"
          ],
          "name": "stdout"
        },
        {
          "output_type": "display_data",
          "data": {
            "image/png": "[encoded data removed]",
            "text/plain": [
              "<Figure size 432x288 with 1 Axes>"
            ]
          },
          "metadata": {
            "tags": [],
            "needs_background": "light"
          }
        },
        {
          "output_type": "stream",
          "text": [
            "====================\n",
            "Column:  credit_rating\n",
            "====================\n"
          ],
          "name": "stdout"
        },
        {
          "output_type": "display_data",
          "data": {
            "image/png": "[encoded data removed]",
            "text/plain": [
              "<Figure size 432x288 with 1 Axes>"
            ]
          },
          "metadata": {
            "tags": [],
            "needs_background": "light"
          }
        },
        {
          "output_type": "stream",
          "text": [
            "====================\n",
            "Column:  own_your_home\n",
            "====================\n"
          ],
          "name": "stdout"
        },
        {
          "output_type": "display_data",
          "data": {
            "image/png": "[encoded data removed]",
            "text/plain": [
              "<Figure size 432x288 with 1 Axes>"
            ]
          },
          "metadata": {
            "tags": [],
            "needs_background": "light"
          }
        },
        {
          "output_type": "stream",
          "text": [
            "====================\n",
            "Column:  reward_Air Miles\n",
            "====================\n"
          ],
          "name": "stdout"
        },
        {
          "output_type": "display_data",
          "data": {
            "image/png": "[encoded data removed]",
            "text/plain": [
              "<Figure size 432x288 with 1 Axes>"
            ]
          },
          "metadata": {
            "tags": [],
            "needs_background": "light"
          }
        },
        {
          "output_type": "stream",
          "text": [
            "====================\n",
            "Column:  reward_Cash Back\n",
            "====================\n"
          ],
          "name": "stdout"
        },
        {
          "output_type": "display_data",
          "data": {
            "image/png": "[encoded data removed]",
            "text/plain": [
              "<Figure size 432x288 with 1 Axes>"
            ]
          },
          "metadata": {
            "tags": [],
            "needs_background": "light"
          }
        },
        {
          "output_type": "stream",
          "text": [
            "====================\n",
            "Column:  reward_Points\n",
            "====================\n"
          ],
          "name": "stdout"
        },
        {
          "output_type": "display_data",
          "data": {
            "image/png": "[encoded data removed]",
            "text/plain": [
              "<Figure size 432x288 with 1 Axes>"
            ]
          },
          "metadata": {
            "tags": [],
            "needs_background": "light"
          }
        },
        {
          "output_type": "stream",
          "text": [
            "====================\n",
            "Column:  mailer_type_Letter\n",
            "====================\n"
          ],
          "name": "stdout"
        },
        {
          "output_type": "display_data",
          "data": {
            "image/png": "[encoded data removed]",
            "text/plain": [
              "<Figure size 432x288 with 1 Axes>"
            ]
          },
          "metadata": {
            "tags": [],
            "needs_background": "light"
          }
        },
        {
          "output_type": "stream",
          "text": [
            "====================\n",
            "Column:  mailer_type_Postcard\n",
            "====================\n"
          ],
          "name": "stdout"
        },
        {
          "output_type": "display_data",
          "data": {
            "image/png": "[encoded data removed]",
            "text/plain": [
              "<Figure size 432x288 with 1 Axes>"
            ]
          },
          "metadata": {
            "tags": [],
            "needs_background": "light"
          }
        },
        {
          "output_type": "stream",
          "text": [
            "====================\n",
            "Column:  bank_accounts_open\n",
            "====================\n"
          ],
          "name": "stdout"
        },
        {
          "output_type": "display_data",
          "data": {
            "image/png": "[encoded data removed]",
            "text/plain": [
              "<Figure size 432x288 with 1 Axes>"
            ]
          },
          "metadata": {
            "tags": [],
            "needs_background": "light"
          }
        },
        {
          "output_type": "stream",
          "text": [
            "====================\n",
            "Column:  credit_cards_held\n",
            "====================\n"
          ],
          "name": "stdout"
        },
        {
          "output_type": "display_data",
          "data": {
            "image/png": "[encoded data removed]",
            "text/plain": [
              "<Figure size 432x288 with 1 Axes>"
            ]
          },
          "metadata": {
            "tags": [],
            "needs_background": "light"
          }
        },
        {
          "output_type": "stream",
          "text": [
            "====================\n",
            "Column:  homes_owned\n",
            "====================\n"
          ],
          "name": "stdout"
        },
        {
          "output_type": "display_data",
          "data": {
            "image/png": "[encoded data removed]",
            "text/plain": [
              "<Figure size 432x288 with 1 Axes>"
            ]
          },
          "metadata": {
            "tags": [],
            "needs_background": "light"
          }
        },
        {
          "output_type": "stream",
          "text": [
            "====================\n",
            "Column:  household_size\n",
            "====================\n"
          ],
          "name": "stdout"
        },
        {
          "output_type": "display_data",
          "data": {
            "image/png": "[encoded data removed]",
            "text/plain": [
              "<Figure size 432x288 with 1 Axes>"
            ]
          },
          "metadata": {
            "tags": [],
            "needs_background": "light"
          }
        },
        {
          "output_type": "stream",
          "text": [
            "====================\n",
            "Column:  avg_balance\n",
            "====================\n"
          ],
          "name": "stdout"
        },
        {
          "output_type": "display_data",
          "data": {
            "image/png": "[encoded data removed]",
            "text/plain": [
              "<Figure size 432x288 with 1 Axes>"
            ]
          },
          "metadata": {
            "tags": [],
            "needs_background": "light"
          }
        },
        {
          "output_type": "stream",
          "text": [
            "====================\n",
            "Column:  q1_balance\n",
            "====================\n"
          ],
          "name": "stdout"
        },
        {
          "output_type": "display_data",
          "data": {
            "image/png": "[encoded data removed]",
            "text/plain": [
              "<Figure size 432x288 with 1 Axes>"
            ]
          },
          "metadata": {
            "tags": [],
            "needs_background": "light"
          }
        },
        {
          "output_type": "stream",
          "text": [
            "====================\n",
            "Column:  q2_balance\n",
            "====================\n"
          ],
          "name": "stdout"
        },
        {
          "output_type": "display_data",
          "data": {
            "image/png": "[encoded data removed]",
            "text/plain": [
              "<Figure size 432x288 with 1 Axes>"
            ]
          },
          "metadata": {
            "tags": [],
            "needs_background": "light"
          }
        },
        {
          "output_type": "stream",
          "text": [
            "====================\n",
            "Column:  q3_balance\n",
            "====================\n"
          ],
          "name": "stdout"
        },
        {
          "output_type": "display_data",
          "data": {
            "image/png": "[encoded data removed]",
            "text/plain": [
              "<Figure size 432x288 with 1 Axes>"
            ]
          },
          "metadata": {
            "tags": [],
            "needs_background": "light"
          }
        },
        {
          "output_type": "stream",
          "text": [
            "====================\n",
            "Column:  q4_balance\n",
            "====================\n"
          ],
          "name": "stdout"
        },
        {
          "output_type": "display_data",
          "data": {
            "image/png": "[encoded data removed]",
            "text/plain": [
              "<Figure size 432x288 with 1 Axes>"
            ]
          },
          "metadata": {
            "tags": [],
            "needs_background": "light"
          }
        },
        {
          "output_type": "stream",
          "text": [
            "====================\n"
          ],
          "name": "stdout"
        }
      ]
    },
    {
      "cell_type": "code",
      "metadata": {
        "id": "RrwAPCr6bqXI",
        "outputId": "27719fa4-1358-4cfc-c8cf-99922102f7c4"
      },
      "source": [
        "\n",
        "predictions, predictions_df, model = models(pt,y, 'offer_accepted', 'logistic')\n",
        "predictions, predictions_df, model = models(pt,y, 'offer_accepted', 'decisiontree')\n",
        "predictions, predictions_df, model = models(pt,y, 'offer_accepted', 'k-nn')"
      ],
      "execution_count": null,
      "outputs": [
        {
          "output_type": "stream",
          "text": [
            "LOGISTIC MODEL\n",
            "The accuracy of the LOGISTC model in the TEST set is:  0.94\n",
            "The kappa of the model is:  0.0\n",
            "====================================================\n",
            "DECISION TREE MODEL\n",
            "The accuracy of the DECISION TRREE model in the TEST set is:  0.88\n",
            "The kappa of the model is:  0.676720303531472\n",
            "====================================================\n",
            "K-NN MODEL\n",
            "The accuracy of KNN test is 1\n",
            "The kappa of the model is:  0.02411911872569772\n",
            "====================================================\n"
          ],
          "name": "stdout"
        }
      ]
    },
    {
      "cell_type": "code",
      "metadata": {
        "id": "kez0sFKxbqXI",
        "outputId": "299ce5b3-aef3-4e09-a2b8-42d44c00ba71"
      },
      "source": [
        "from sklearn.preprocessing import Normalizer\n",
        "# from sklearn.preprocessing import StandardScaler\n",
        "\n",
        "# Normalizing data\n",
        "transformer = Normalizer().fit(num)\n",
        "num_normalized = transformer.transform(num)\n",
        "num_df = pd.DataFrame(x_normalized)\n",
        "num_df"
      ],
      "execution_count": null,
      "outputs": [
        {
          "output_type": "error",
          "ename": "NameError",
          "evalue": "name 'x_normalized' is not defined",
          "traceback": [
            "\u001b[0;31m---------------------------------------------------------------------------\u001b[0m",
            "\u001b[0;31mNameError\u001b[0m                                 Traceback (most recent call last)",
            "\u001b[0;32m<ipython-input-36-beed11d2c3cf>\u001b[0m in \u001b[0;36m<module>\u001b[0;34m\u001b[0m\n\u001b[1;32m      5\u001b[0m \u001b[0mtransformer\u001b[0m \u001b[0;34m=\u001b[0m \u001b[0mNormalizer\u001b[0m\u001b[0;34m(\u001b[0m\u001b[0;34m)\u001b[0m\u001b[0;34m.\u001b[0m\u001b[0mfit\u001b[0m\u001b[0;34m(\u001b[0m\u001b[0mnum\u001b[0m\u001b[0;34m)\u001b[0m\u001b[0;34m\u001b[0m\u001b[0;34m\u001b[0m\u001b[0m\n\u001b[1;32m      6\u001b[0m \u001b[0mnum_normalized\u001b[0m \u001b[0;34m=\u001b[0m \u001b[0mtransformer\u001b[0m\u001b[0;34m.\u001b[0m\u001b[0mtransform\u001b[0m\u001b[0;34m(\u001b[0m\u001b[0mnum\u001b[0m\u001b[0;34m)\u001b[0m\u001b[0;34m\u001b[0m\u001b[0;34m\u001b[0m\u001b[0m\n\u001b[0;32m----> 7\u001b[0;31m \u001b[0mnum_df\u001b[0m \u001b[0;34m=\u001b[0m \u001b[0mpd\u001b[0m\u001b[0;34m.\u001b[0m\u001b[0mDataFrame\u001b[0m\u001b[0;34m(\u001b[0m\u001b[0mx_normalized\u001b[0m\u001b[0;34m)\u001b[0m\u001b[0;34m\u001b[0m\u001b[0;34m\u001b[0m\u001b[0m\n\u001b[0m\u001b[1;32m      8\u001b[0m \u001b[0mnum_df\u001b[0m\u001b[0;34m\u001b[0m\u001b[0;34m\u001b[0m\u001b[0m\n",
            "\u001b[0;31mNameError\u001b[0m: name 'x_normalized' is not defined"
          ]
        }
      ]
    },
    {
      "cell_type": "code",
      "metadata": {
        "id": "c7_EWyCebqXJ"
      },
      "source": [
        ""
      ],
      "execution_count": null,
      "outputs": []
    },
    {
      "cell_type": "code",
      "metadata": {
        "id": "K-aQ9KfubqXJ"
      },
      "source": [
        ""
      ],
      "execution_count": null,
      "outputs": []
    },
    {
      "cell_type": "code",
      "metadata": {
        "id": "xqohvE9ObqXK"
      },
      "source": [
        ""
      ],
      "execution_count": null,
      "outputs": []
    },
    {
      "cell_type": "code",
      "metadata": {
        "id": "036wnhHwbqXK"
      },
      "source": [
        "def imbalance_data(X,):\n",
        "    from imblearn.under_sampling import TomekLinks\n",
        "    transformer = \n",
        "\n",
        "tl = TomekLinks('majority')\n",
        "X = df[['tenure', 'SeniorCitizen','MonthlyCharges']]\n",
        "transformer = StandardScaler().fit(X)\n",
        "X_scaled = transformer.transform(X)\n",
        "y = df['Churn']\n",
        "X_tl, y_tl = tl.fit_sample(X_scaled, y)\n",
        "pd.DataFrame(y_tl).value_counts()"
      ],
      "execution_count": null,
      "outputs": []
    },
    {
      "cell_type": "code",
      "metadata": {
        "id": "OUSYAstcbqXK"
      },
      "source": [
        "def scaling(df,target,scaler):\n",
        "    from sklearn.preprocessing import StandardScaler\n",
        "    from sklearn.preprocessing import MinMaxScaler\n",
        "    from sklearn.preprocessing import Normalizer\n",
        "    from sklearn.preprocessing import PowerTransformer\n",
        "\n",
        "    #StandardScaler\n",
        "    if scaler==\"StandardScaler\":\n",
        "        scaler_x = StandardScaler().fit(X)\n",
        "        X_scaled = pd.DataFrame(scaler_x.transform(X),columns=X.columns)\n",
        "        \n",
        "    # MinMaxScaler\n",
        "    elif scaler==\"MinMax\":\n",
        "        X_scaled = MinMaxScaler().fit_transform(X.values)\n",
        "        X_scaled = pd.DataFrame(X_scaled,columns=X.columns)\n",
        "\n",
        "    # Normalizer\n",
        "    elif scaler==\"Normalizer\":\n",
        "        transformer = Normalizer().fit(X)\n",
        "        X_scaled = pd.DataFrame(transformer.transform(X),columns=X.columns)\n",
        "    \n",
        "    # Power transformer\n",
        "    elif scaler == 'PowerTransformer':\n",
        "        transformer = PowerTransformer().fit(X)\n",
        "        X_scaled = pd.DataFrame(transformer.transform(X),columns=X.columns)\n",
        "\n",
        "    return X_scaled, Y"
      ],
      "execution_count": null,
      "outputs": []
    },
    {
      "cell_type": "code",
      "metadata": {
        "id": "bxfjSq2fbqXL"
      },
      "source": [
        "from imblearn.under_sampling import RandomUnderSampler\n",
        "from imblearn.over_sampling import RandomOverSampler"
      ],
      "execution_count": null,
      "outputs": []
    },
    {
      "cell_type": "code",
      "metadata": {
        "id": "h3WBTwBYbqXL"
      },
      "source": [
        "X_down = X.copy()\n",
        "X_down = RandomUnderSampller()\n",
        "transformer = StandardScaler().fit(X_down)\n",
        "X_scaled = transformer.transform(X_down)\n",
        "X_down, y_down = df_down.fit_sample(X_scaled,y)\n",
        "\n",
        "pd.DataFrame(y_down).value_counts()"
      ],
      "execution_count": null,
      "outputs": []
    },
    {
      "cell_type": "code",
      "metadata": {
        "id": "I-YO1-GTbqXL"
      },
      "source": [
        "classification = LogisticRegrression(random_state=0,solver='lbfgs',multi_class='ovr').fit(X_down, y_down)\n",
        "print('The accuracy of the model is: ', round(classification.score(X_down,y_down),2))\n",
        "print('The kappa of the modeel is: ', round(cohen_kappa_scorre(y_down,classification.predict(X_down)),2))"
      ],
      "execution_count": null,
      "outputs": []
    },
    {
      "cell_type": "code",
      "metadata": {
        "id": "_8oSKA74bqXL"
      },
      "source": [
        "# Train- test split"
      ],
      "execution_count": null,
      "outputs": []
    },
    {
      "cell_type": "code",
      "metadata": {
        "id": "XZA9VDe6bqXL"
      },
      "source": [
        "predictions, predictions_df, model = models(X_power, y, 'offer_accepted','decisiontree')"
      ],
      "execution_count": null,
      "outputs": []
    },
    {
      "cell_type": "code",
      "metadata": {
        "id": "gXNcSHYPbqXM",
        "outputId": "15e8957b-f14d-4667-ec3d-c6a7657d277c"
      },
      "source": [
        "def samplings(X,sampling):\n",
        "    from sklearn.preprocessing import StandardScaler\n",
        "    from imblearn.under_sampling import RandomUnderSampler\n",
        "    from imblearn.over_sampling import RandomOverSampler\n",
        "    from imblearn.under_sampling import TomekLinks\n",
        "\n",
        "    if sampling =='downsampling':\n",
        "        s = RandomUnderSampler()\n",
        "    elif sampling == 'upsampling':\n",
        "        s = RandomOverSampler()\n",
        "    elif  samplling == 'tomeklinks':\n",
        "        s = TomekLinks('majority')\n",
        "    X_scaled = StandardScaler().fit(X).transform(X)\n",
        "    X_s, y_s = s.fit_sample(X_scaled,y)\n",
        "    return pd.DataFrame(X_s).value_counts(), pd.DataFrame(y_s).value_counts()\n",
        "samplings(X,'downsampling')"
      ],
      "execution_count": null,
      "outputs": [
        {
          "output_type": "error",
          "ename": "ImportError",
          "evalue": "cannot import name 'safe_indexing' from 'sklearn.utils' (/opt/anaconda3/lib/python3.7/site-packages/sklearn/utils/__init__.py)",
          "traceback": [
            "\u001b[0;31m---------------------------------------------------------------------------\u001b[0m",
            "\u001b[0;31mImportError\u001b[0m                               Traceback (most recent call last)",
            "\u001b[0;32m<ipython-input-37-8e30f82f2ecc>\u001b[0m in \u001b[0;36m<module>\u001b[0;34m\u001b[0m\n\u001b[1;32m     14\u001b[0m     \u001b[0mX_s\u001b[0m\u001b[0;34m,\u001b[0m \u001b[0my_s\u001b[0m \u001b[0;34m=\u001b[0m \u001b[0ms\u001b[0m\u001b[0;34m.\u001b[0m\u001b[0mfit_sample\u001b[0m\u001b[0;34m(\u001b[0m\u001b[0mX_scaled\u001b[0m\u001b[0;34m,\u001b[0m\u001b[0my\u001b[0m\u001b[0;34m)\u001b[0m\u001b[0;34m\u001b[0m\u001b[0;34m\u001b[0m\u001b[0m\n\u001b[1;32m     15\u001b[0m     \u001b[0;32mreturn\u001b[0m \u001b[0mpd\u001b[0m\u001b[0;34m.\u001b[0m\u001b[0mDataFrame\u001b[0m\u001b[0;34m(\u001b[0m\u001b[0mX_s\u001b[0m\u001b[0;34m)\u001b[0m\u001b[0;34m.\u001b[0m\u001b[0mvalue_counts\u001b[0m\u001b[0;34m(\u001b[0m\u001b[0;34m)\u001b[0m\u001b[0;34m,\u001b[0m \u001b[0mpd\u001b[0m\u001b[0;34m.\u001b[0m\u001b[0mDataFrame\u001b[0m\u001b[0;34m(\u001b[0m\u001b[0my_s\u001b[0m\u001b[0;34m)\u001b[0m\u001b[0;34m.\u001b[0m\u001b[0mvalue_counts\u001b[0m\u001b[0;34m(\u001b[0m\u001b[0;34m)\u001b[0m\u001b[0;34m\u001b[0m\u001b[0;34m\u001b[0m\u001b[0m\n\u001b[0;32m---> 16\u001b[0;31m \u001b[0msamplings\u001b[0m\u001b[0;34m(\u001b[0m\u001b[0mX\u001b[0m\u001b[0;34m,\u001b[0m\u001b[0;34m'downsampling'\u001b[0m\u001b[0;34m)\u001b[0m\u001b[0;34m\u001b[0m\u001b[0;34m\u001b[0m\u001b[0m\n\u001b[0m",
            "\u001b[0;32m<ipython-input-37-8e30f82f2ecc>\u001b[0m in \u001b[0;36msamplings\u001b[0;34m(X, sampling)\u001b[0m\n\u001b[1;32m      1\u001b[0m \u001b[0;32mdef\u001b[0m \u001b[0msamplings\u001b[0m\u001b[0;34m(\u001b[0m\u001b[0mX\u001b[0m\u001b[0;34m,\u001b[0m\u001b[0msampling\u001b[0m\u001b[0;34m)\u001b[0m\u001b[0;34m:\u001b[0m\u001b[0;34m\u001b[0m\u001b[0;34m\u001b[0m\u001b[0m\n\u001b[1;32m      2\u001b[0m     \u001b[0;32mfrom\u001b[0m \u001b[0msklearn\u001b[0m\u001b[0;34m.\u001b[0m\u001b[0mpreprocessing\u001b[0m \u001b[0;32mimport\u001b[0m \u001b[0mStandardScaler\u001b[0m\u001b[0;34m\u001b[0m\u001b[0;34m\u001b[0m\u001b[0m\n\u001b[0;32m----> 3\u001b[0;31m     \u001b[0;32mfrom\u001b[0m \u001b[0mimblearn\u001b[0m\u001b[0;34m.\u001b[0m\u001b[0munder_sampling\u001b[0m \u001b[0;32mimport\u001b[0m \u001b[0mRandomUnderSampler\u001b[0m\u001b[0;34m\u001b[0m\u001b[0;34m\u001b[0m\u001b[0m\n\u001b[0m\u001b[1;32m      4\u001b[0m     \u001b[0;32mfrom\u001b[0m \u001b[0mimblearn\u001b[0m\u001b[0;34m.\u001b[0m\u001b[0mover_sampling\u001b[0m \u001b[0;32mimport\u001b[0m \u001b[0mRandomOverSampler\u001b[0m\u001b[0;34m\u001b[0m\u001b[0;34m\u001b[0m\u001b[0m\n\u001b[1;32m      5\u001b[0m     \u001b[0;32mfrom\u001b[0m \u001b[0mimblearn\u001b[0m\u001b[0;34m.\u001b[0m\u001b[0munder_sampling\u001b[0m \u001b[0;32mimport\u001b[0m \u001b[0mTomekLinks\u001b[0m\u001b[0;34m\u001b[0m\u001b[0;34m\u001b[0m\u001b[0m\n",
            "\u001b[0;32m/opt/anaconda3/lib/python3.7/site-packages/imblearn/under_sampling/__init__.py\u001b[0m in \u001b[0;36m<module>\u001b[0;34m\u001b[0m\n\u001b[1;32m      4\u001b[0m \"\"\"\n\u001b[1;32m      5\u001b[0m \u001b[0;34m\u001b[0m\u001b[0m\n\u001b[0;32m----> 6\u001b[0;31m \u001b[0;32mfrom\u001b[0m \u001b[0;34m.\u001b[0m\u001b[0mprototype_generation\u001b[0m \u001b[0;32mimport\u001b[0m \u001b[0mClusterCentroids\u001b[0m\u001b[0;34m\u001b[0m\u001b[0;34m\u001b[0m\u001b[0m\n\u001b[0m\u001b[1;32m      7\u001b[0m \u001b[0;34m\u001b[0m\u001b[0m\n\u001b[1;32m      8\u001b[0m \u001b[0;32mfrom\u001b[0m \u001b[0;34m.\u001b[0m\u001b[0mprototype_selection\u001b[0m \u001b[0;32mimport\u001b[0m \u001b[0mRandomUnderSampler\u001b[0m\u001b[0;34m\u001b[0m\u001b[0;34m\u001b[0m\u001b[0m\n",
            "\u001b[0;32m/opt/anaconda3/lib/python3.7/site-packages/imblearn/under_sampling/prototype_generation/__init__.py\u001b[0m in \u001b[0;36m<module>\u001b[0;34m\u001b[0m\n\u001b[1;32m      4\u001b[0m \"\"\"\n\u001b[1;32m      5\u001b[0m \u001b[0;34m\u001b[0m\u001b[0m\n\u001b[0;32m----> 6\u001b[0;31m \u001b[0;32mfrom\u001b[0m \u001b[0;34m.\u001b[0m\u001b[0mcluster_centroids\u001b[0m \u001b[0;32mimport\u001b[0m \u001b[0mClusterCentroids\u001b[0m\u001b[0;34m\u001b[0m\u001b[0;34m\u001b[0m\u001b[0m\n\u001b[0m\u001b[1;32m      7\u001b[0m \u001b[0;34m\u001b[0m\u001b[0m\n\u001b[1;32m      8\u001b[0m __all__ = [\n",
            "\u001b[0;32m/opt/anaconda3/lib/python3.7/site-packages/imblearn/under_sampling/prototype_generation/cluster_centroids.py\u001b[0m in \u001b[0;36m<module>\u001b[0;34m\u001b[0m\n\u001b[1;32m     14\u001b[0m \u001b[0;32mfrom\u001b[0m \u001b[0msklearn\u001b[0m\u001b[0;34m.\u001b[0m\u001b[0mcluster\u001b[0m \u001b[0;32mimport\u001b[0m \u001b[0mKMeans\u001b[0m\u001b[0;34m\u001b[0m\u001b[0;34m\u001b[0m\u001b[0m\n\u001b[1;32m     15\u001b[0m \u001b[0;32mfrom\u001b[0m \u001b[0msklearn\u001b[0m\u001b[0;34m.\u001b[0m\u001b[0mneighbors\u001b[0m \u001b[0;32mimport\u001b[0m \u001b[0mNearestNeighbors\u001b[0m\u001b[0;34m\u001b[0m\u001b[0;34m\u001b[0m\u001b[0m\n\u001b[0;32m---> 16\u001b[0;31m \u001b[0;32mfrom\u001b[0m \u001b[0msklearn\u001b[0m\u001b[0;34m.\u001b[0m\u001b[0mutils\u001b[0m \u001b[0;32mimport\u001b[0m \u001b[0msafe_indexing\u001b[0m\u001b[0;34m\u001b[0m\u001b[0;34m\u001b[0m\u001b[0m\n\u001b[0m\u001b[1;32m     17\u001b[0m \u001b[0;34m\u001b[0m\u001b[0m\n\u001b[1;32m     18\u001b[0m \u001b[0;32mfrom\u001b[0m \u001b[0;34m.\u001b[0m\u001b[0;34m.\u001b[0m\u001b[0mbase\u001b[0m \u001b[0;32mimport\u001b[0m \u001b[0mBaseUnderSampler\u001b[0m\u001b[0;34m\u001b[0m\u001b[0;34m\u001b[0m\u001b[0m\n",
            "\u001b[0;31mImportError\u001b[0m: cannot import name 'safe_indexing' from 'sklearn.utils' (/opt/anaconda3/lib/python3.7/site-packages/sklearn/utils/__init__.py)"
          ]
        }
      ]
    },
    {
      "cell_type": "code",
      "metadata": {
        "id": "OquINcNabqXM"
      },
      "source": [
        "classification = LogisticRegression(random_state=0, solver='lbfgs',\n",
        "                        multi_class='ovr').fit(X_tl, y_tl)\n",
        "\n",
        "print(\"The accuracy of the model is: \",round(classification.score(X_tl, y_tl),2))\n",
        "print(\"The kappa of the model is: \",round(cohen_kappa_score(y_tl,classification.predict(X_tl)),2))"
      ],
      "execution_count": null,
      "outputs": []
    },
    {
      "cell_type": "code",
      "metadata": {
        "id": "KFN3O70ibqXM"
      },
      "source": [
        "pip install imblearn"
      ],
      "execution_count": null,
      "outputs": []
    },
    {
      "cell_type": "code",
      "metadata": {
        "id": "rMrxOKKtbqXM"
      },
      "source": [
        ""
      ],
      "execution_count": null,
      "outputs": []
    }
  ]
}